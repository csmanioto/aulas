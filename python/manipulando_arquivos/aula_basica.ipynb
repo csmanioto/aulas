{
  "nbformat": 4,
  "nbformat_minor": 0,
  "metadata": {
    "colab": {
      "provenance": [],
      "authorship_tag": "ABX9TyMIuItqzr7OCugn0oOHhz/R",
      "include_colab_link": true
    },
    "kernelspec": {
      "name": "python3",
      "display_name": "Python 3"
    },
    "language_info": {
      "name": "python"
    }
  },
  "cells": [
    {
      "cell_type": "markdown",
      "metadata": {
        "id": "view-in-github",
        "colab_type": "text"
      },
      "source": [
        "<a href=\"https://colab.research.google.com/github/csmanioto/aulas/blob/main/python/manipulando_arquivos/aula_basica.ipynb\" target=\"_parent\"><img src=\"https://colab.research.google.com/assets/colab-badge.svg\" alt=\"Open In Colab\"/></a>"
      ]
    },
    {
      "cell_type": "markdown",
      "source": [
        "# Trabalhando com Arquivos"
      ],
      "metadata": {
        "id": "NHDyiQOAz6Xo"
      }
    },
    {
      "cell_type": "markdown",
      "source": [
        "## Conteúdo da aula: \n",
        "\n",
        "---\n",
        "\n",
        "### Função OPEN\n",
        "* Trabalhando com os métodos read e readline;\n",
        "\n",
        "### Tratamento de arquivo dentro do Python\n",
        "* Trabalhando com o método splitline()\n",
        "\n",
        "### Gravando arquivo no Python\n",
        "* Trabalhando com os métodos write \n",
        "\n",
        "\n",
        "### Trabalhando com a biblioteca CSV\n",
        "* Manipulação através da biblioteca csv\n",
        "\n",
        "### PANDAS \n",
        "* Manipulação através da biblioteca pandas\n",
        "* Leitura de arquivo excel \n",
        "\n"
      ],
      "metadata": {
        "id": "h-LAAKjK50L8"
      }
    },
    {
      "cell_type": "markdown",
      "source": [
        "## Função OPEN"
      ],
      "metadata": {
        "id": "lEHkGfp87fWg"
      }
    },
    {
      "cell_type": "markdown",
      "source": [
        "A função ```open```, permite abrir um arquivo para leitura e escrita.\n",
        "\n",
        "    open(nome_do_arquivo, modo)\n",
        "\n",
        "Modos:\n",
        "\n",
        "        * r - abre o arquivo para leitura.\n",
        "        * w - abre o arquivo para escrita.\n",
        "        * a - abre o arquivo para escrita acrescentando os dados no final do arquivo.\n",
        "        * + - pode ser lido e escrito simultaneamente.\n",
        "    "
      ],
      "metadata": {
        "id": "LDdc69lj8wlj"
      }
    },
    {
      "cell_type": "markdown",
      "source": [
        "Para acessar a função OPEN, é necessário importar o pacote nativo **OS**"
      ],
      "metadata": {
        "id": "xy_1LKYf9Uxo"
      }
    },
    {
      "cell_type": "code",
      "source": [
        "import os"
      ],
      "metadata": {
        "id": "sOqXSFOz0YYm"
      },
      "execution_count": 1,
      "outputs": []
    },
    {
      "cell_type": "markdown",
      "source": [
        "Vamos brincar de crir um arquivo e gravar nele algumas linhas. Mas primeiro, como é uma aula, talvez você já tenha criado o arquivo, por isso, a primeira coisa a ser realizada é a exclusão do arquivo de exercício!"
      ],
      "metadata": {
        "id": "mgTs_M32_iWU"
      }
    },
    {
      "cell_type": "code",
      "source": [
        "###\n",
        "# Path.exists() apenas verifica se o arquivo foi encontrado, retorando verdadeiro.\n",
        "##\n",
        "\n",
        "if os.path.exists(\"arquivo.txt\"): # Removendo um arquivo já existente\n",
        "    os.remove(\"arquivo.txt\") # <- O foco é este comando por hora...\n",
        "    print(\"Arquivo excluído\")\n",
        "else:\n",
        "    print (\"Arquivo não existe, será que já foi excluído?\")"
      ],
      "metadata": {
        "id": "llUTG9Pf9h3Y"
      },
      "execution_count": null,
      "outputs": []
    },
    {
      "cell_type": "markdown",
      "source": [
        "Como dito anteriormente: para criar/editar arquivos, é necessário o modo 'w'\n",
        "\n",
        "`open(\"arquivo.txt\", \"w\")`"
      ],
      "metadata": {
        "id": "T8JQvIywA1ZC"
      }
    },
    {
      "cell_type": "code",
      "source": [
        "###\n",
        "# que o arquivo foi excluído, vamos agora cria-lo do Zero\n",
        "###\n",
        "arq = open(\"arquivo.txt\", \"w\")"
      ],
      "metadata": {
        "id": "aSZIOIS494In"
      },
      "execution_count": 10,
      "outputs": []
    },
    {
      "cell_type": "code",
      "source": [
        "## Vamos escrever 5 linhas em nosso novo arquivo\n",
        "import random\n",
        "for i in range(1, 5):\n",
        "    numero_magico = random.randint(1,1000)\n",
        "    arq.write('{}. Escrevendo alguma coisa no arquivo, número mágico: {}\\n'.format(i, numero_magico))"
      ],
      "metadata": {
        "id": "uNk2c6Oq-Grj"
      },
      "execution_count": 4,
      "outputs": []
    },
    {
      "cell_type": "markdown",
      "source": [
        "O `import random` não tem importancia para esta aula, apenas utilizamos ele para ficar evidente que cada linha gravada é única através da **linha 4**:\n",
        "\n",
        "`numero_magico = random.randint(1,1000)` onde será gerado um número aleatório de 1 à 1000."
      ],
      "metadata": {
        "id": "gYywbJOiEB9m"
      }
    },
    {
      "cell_type": "code",
      "source": [
        "arq.close() # Fecha o arquivo, em outras palavras: Sincroniza o que esta na memórica com o disco e desmobiliza a varíavel arq para não haver mais manipulação no arquivo."
      ],
      "metadata": {
        "id": "gPUVdKWc-ZqW"
      },
      "execution_count": 5,
      "outputs": []
    },
    {
      "cell_type": "markdown",
      "source": [
        "## Trabalhando com os métodos read e readline\n",
        "\n",
        "* ```read()``` - retorna uma string única com todo o conteúdo do arquivo.\n",
        "* ```readlines()``` - todo o conteúdo do arquivo é salvo em uma lista, onde cada linha do arquivo será um elemento da lista."
      ],
      "metadata": {
        "id": "y5qVxpquCb9s"
      }
    },
    {
      "cell_type": "code",
      "source": [
        "f = open(\"arquivo.txt\", \"r\")\n",
        "print(f, '\\n')\n",
        "\n",
        "\n",
        "texto = f.read()\n",
        "print(texto)\n",
        "f.close()"
      ],
      "metadata": {
        "id": "RRbaHt1MCnx5"
      },
      "execution_count": null,
      "outputs": []
    },
    {
      "cell_type": "markdown",
      "source": [
        "**Até aqui o que fizemos:**\n",
        "\n",
        "1.   Importamos a biblioteca python de CSV;\n",
        "2.   Usamos a função open() para abrir o arquivo \"base_de_salarios.csv\"; "
      ],
      "metadata": {
        "id": "nhTAOdLT0d30"
      }
    },
    {
      "cell_type": "code",
      "execution_count": null,
      "metadata": {
        "id": "2c2DAHdGzveJ"
      },
      "outputs": [],
      "source": [
        "file = open(\"base_de_salarios.csv\")\n",
        "type(file)"
      ]
    },
    {
      "cell_type": "code",
      "source": [
        "leitor_csv = csv.reader(file)"
      ],
      "metadata": {
        "id": "qI2zUG_Q0SdO"
      },
      "execution_count": null,
      "outputs": []
    },
    {
      "cell_type": "markdown",
      "source": [
        "\n",
        "\n",
        "Usando o a função reader() da biblioteca csv; carregamos o conteúdo para dentro da variável leitor_csv; ⬆"
      ],
      "metadata": {
        "id": "_uL_tPPB1N8r"
      }
    },
    {
      "cell_type": "code",
      "source": [
        "cabecario = []\n",
        "cabecario = next(csvreader)\n",
        "cabecario"
      ],
      "metadata": {
        "id": "ahLXbzit08Oe"
      },
      "execution_count": null,
      "outputs": []
    },
    {
      "cell_type": "markdown",
      "source": [
        "Agora separamos o cabeçario, o que sobra? o conteúdo(linhas) é claro!"
      ],
      "metadata": {
        "id": "PCTq3WeP1yXE"
      }
    },
    {
      "cell_type": "code",
      "source": [
        "linhas = []\n",
        "for 1_linha in leitor_csv:\n",
        "    linhas.append(1_linha)"
      ],
      "metadata": {
        "id": "yu69XqN_17vB"
      },
      "execution_count": null,
      "outputs": []
    },
    {
      "cell_type": "markdown",
      "source": [
        "### Desta forma o que fizemos? \n",
        "\n",
        "\n",
        "`Usando o método de loop do python **FOR**,` realizamos a leitura linha por linha, (representada pela variável `1_linha`) existente no arquivo `\"base_de_salarios_csv\"` que foi representado pelo python através da variavel **`leitor_csv`**\n",
        "Para cara 1 linha existente no arquivo que é representado pela varíavel leitor_csv; "
      ],
      "metadata": {
        "id": "bdcIrVOc2L8K"
      }
    },
    {
      "cell_type": "code",
      "source": [],
      "metadata": {
        "id": "4q5-ra1a2Yrb"
      },
      "execution_count": null,
      "outputs": []
    }
  ]
}