{
  "nbformat": 4,
  "nbformat_minor": 0,
  "metadata": {
    "colab": {
      "provenance": [],
      "authorship_tag": "ABX9TyMCudMqjbHEgl9MdjFYL2AA",
      "include_colab_link": true
    },
    "kernelspec": {
      "name": "python3",
      "display_name": "Python 3"
    },
    "language_info": {
      "name": "python"
    }
  },
  "cells": [
    {
      "cell_type": "markdown",
      "metadata": {
        "id": "view-in-github",
        "colab_type": "text"
      },
      "source": [
        "<a href=\"https://colab.research.google.com/github/csmanioto/aulas/blob/main/python/manipulando_arquivos/aula_basica.ipynb\" target=\"_parent\"><img src=\"https://colab.research.google.com/assets/colab-badge.svg\" alt=\"Open In Colab\"/></a>"
      ]
    },
    {
      "cell_type": "markdown",
      "source": [
        "# Trabalhando com Arquivos"
      ],
      "metadata": {
        "id": "NHDyiQOAz6Xo"
      }
    },
    {
      "cell_type": "markdown",
      "source": [
        "## Conteúdo da aula: \n",
        "\n",
        "---\n",
        "\n",
        "### Função OPEN\n",
        "* Trabalhando com os métodos read e readline;\n",
        "\n",
        "### Tratamento de arquivo dentro do Python\n",
        "* Trabalhando com o método splitline()\n",
        "\n",
        "### Gravando arquivo no Python\n",
        "* Trabalhando com os métodos write \n",
        "\n",
        "\n",
        "### Trabalhando com a biblioteca CSV\n",
        "* Manipulação através da biblioteca csv\n",
        "\n",
        "### PANDAS \n",
        "* Manipulação através da biblioteca pandas\n",
        "* Leitura de arquivo excel \n",
        "\n"
      ],
      "metadata": {
        "id": "h-LAAKjK50L8"
      }
    },
    {
      "cell_type": "markdown",
      "source": [
        "# Antes de começar a falar de arquivos\n",
        "\n",
        "\n",
        "Vamos brincar um pouco com o pacote random! Será utilizado nesta aula para nos auxiliar a perceber que cada linha gravada de fato foi única!"
      ],
      "metadata": {
        "id": "a_L3dhr46fEc"
      }
    },
    {
      "cell_type": "code",
      "source": [
        "!pip install ipython-autotime\n",
        "%load_ext autotime"
      ],
      "metadata": {
        "id": "sRi0IFAhGKrL",
        "outputId": "91834276-24f9-488d-da7b-99290ea9c404",
        "colab": {
          "base_uri": "https://localhost:8080/"
        }
      },
      "execution_count": 1,
      "outputs": [
        {
          "output_type": "stream",
          "name": "stdout",
          "text": [
            "Looking in indexes: https://pypi.org/simple, https://us-python.pkg.dev/colab-wheels/public/simple/\n",
            "Requirement already satisfied: ipython-autotime in /usr/local/lib/python3.8/dist-packages (0.3.1)\n",
            "Requirement already satisfied: ipython in /usr/local/lib/python3.8/dist-packages (from ipython-autotime) (7.9.0)\n",
            "Requirement already satisfied: setuptools>=18.5 in /usr/local/lib/python3.8/dist-packages (from ipython->ipython-autotime) (57.4.0)\n",
            "Requirement already satisfied: pygments in /usr/local/lib/python3.8/dist-packages (from ipython->ipython-autotime) (2.6.1)\n",
            "Requirement already satisfied: pexpect in /usr/local/lib/python3.8/dist-packages (from ipython->ipython-autotime) (4.8.0)\n",
            "Requirement already satisfied: decorator in /usr/local/lib/python3.8/dist-packages (from ipython->ipython-autotime) (4.4.2)\n",
            "Requirement already satisfied: jedi>=0.10 in /usr/local/lib/python3.8/dist-packages (from ipython->ipython-autotime) (0.18.2)\n",
            "Requirement already satisfied: pickleshare in /usr/local/lib/python3.8/dist-packages (from ipython->ipython-autotime) (0.7.5)\n",
            "Requirement already satisfied: backcall in /usr/local/lib/python3.8/dist-packages (from ipython->ipython-autotime) (0.2.0)\n",
            "Requirement already satisfied: prompt-toolkit<2.1.0,>=2.0.0 in /usr/local/lib/python3.8/dist-packages (from ipython->ipython-autotime) (2.0.10)\n",
            "Requirement already satisfied: traitlets>=4.2 in /usr/local/lib/python3.8/dist-packages (from ipython->ipython-autotime) (5.7.1)\n",
            "Requirement already satisfied: parso<0.9.0,>=0.8.0 in /usr/local/lib/python3.8/dist-packages (from jedi>=0.10->ipython->ipython-autotime) (0.8.3)\n",
            "Requirement already satisfied: six>=1.9.0 in /usr/local/lib/python3.8/dist-packages (from prompt-toolkit<2.1.0,>=2.0.0->ipython->ipython-autotime) (1.15.0)\n",
            "Requirement already satisfied: wcwidth in /usr/local/lib/python3.8/dist-packages (from prompt-toolkit<2.1.0,>=2.0.0->ipython->ipython-autotime) (0.2.5)\n",
            "Requirement already satisfied: ptyprocess>=0.5 in /usr/local/lib/python3.8/dist-packages (from pexpect->ipython->ipython-autotime) (0.7.0)\n",
            "time: 438 µs (started: 2022-12-17 17:20:04 +00:00)\n"
          ]
        }
      ]
    },
    {
      "cell_type": "code",
      "source": [
        "import random"
      ],
      "metadata": {
        "id": "2UzjyiEPxRUt",
        "outputId": "1d3ba949-b832-4b9f-a143-0ad33155b85d",
        "colab": {
          "base_uri": "https://localhost:8080/"
        }
      },
      "execution_count": 2,
      "outputs": [
        {
          "output_type": "stream",
          "name": "stdout",
          "text": [
            "time: 505 µs (started: 2022-12-17 17:20:08 +00:00)\n"
          ]
        }
      ]
    },
    {
      "cell_type": "code",
      "source": [
        "numero_magico = random.randint(1,1000)\n",
        "numero_magico"
      ],
      "metadata": {
        "id": "X_8nwOO765Am",
        "outputId": "ff4a48b5-2bef-41a8-a313-f888f53ce69c",
        "colab": {
          "base_uri": "https://localhost:8080/"
        }
      },
      "execution_count": 3,
      "outputs": [
        {
          "output_type": "execute_result",
          "data": {
            "text/plain": [
              "244"
            ]
          },
          "metadata": {},
          "execution_count": 3
        },
        {
          "output_type": "stream",
          "name": "stdout",
          "text": [
            "time: 9.72 ms (started: 2022-12-17 17:20:11 +00:00)\n"
          ]
        }
      ]
    },
    {
      "cell_type": "code",
      "source": [
        "import string\n",
        "import random\n",
        "\n",
        "#criamos um metodo que gera senha ;)\n",
        "def gera_senha(tamanho):\n",
        "  return ''.join(random.choices(string.ascii_uppercase + string.punctuation + string.digits, k=tamanho))\n",
        "\n",
        "print(gera_senha(16))"
      ],
      "metadata": {
        "id": "p_0Y471lzj1h",
        "outputId": "962b2fa3-8052-4ad3-a22c-287efeed24cb",
        "colab": {
          "base_uri": "https://localhost:8080/"
        }
      },
      "execution_count": 4,
      "outputs": [
        {
          "output_type": "stream",
          "name": "stdout",
          "text": [
            "T5~J^PR([%#{2ZX!\n",
            "time: 5.45 ms (started: 2022-12-17 17:20:15 +00:00)\n"
          ]
        }
      ]
    },
    {
      "cell_type": "code",
      "source": [
        "def new_user(login, tamanho_senha):\n",
        "    return 'login_rede: {} , email: {}@btgpactual.com ,  senha_temporaria: \"{}\" \\n'.format(login, login, gera_senha(tamanho_senha))"
      ],
      "metadata": {
        "id": "z3xX6Mkb1oM_",
        "outputId": "f35c9bde-4d76-4d15-a485-004b95b85bb1",
        "colab": {
          "base_uri": "https://localhost:8080/"
        }
      },
      "execution_count": 5,
      "outputs": [
        {
          "output_type": "stream",
          "name": "stdout",
          "text": [
            "time: 985 µs (started: 2022-12-17 17:20:18 +00:00)\n"
          ]
        }
      ]
    },
    {
      "cell_type": "code",
      "source": [
        "new_user('vanessa',16)"
      ],
      "metadata": {
        "id": "bLVrN-X87HEG",
        "outputId": "567bf82b-0e2a-4524-8d06-ba4138777b56",
        "colab": {
          "base_uri": "https://localhost:8080/",
          "height": 37
        }
      },
      "execution_count": 6,
      "outputs": [
        {
          "output_type": "execute_result",
          "data": {
            "text/plain": [
              "'login_rede: vanessa , email: vanessa@btgpactual.com ,  senha_temporaria: \"X7\"`C2C(4\\'\\'05V64\" \\n'"
            ],
            "application/vnd.google.colaboratory.intrinsic+json": {
              "type": "string"
            }
          },
          "metadata": {},
          "execution_count": 6
        },
        {
          "output_type": "stream",
          "name": "stdout",
          "text": [
            "time: 10.2 ms (started: 2022-12-17 17:20:22 +00:00)\n"
          ]
        }
      ]
    },
    {
      "cell_type": "markdown",
      "source": [
        "# Função interna OPEN"
      ],
      "metadata": {
        "id": "lEHkGfp87fWg"
      }
    },
    {
      "cell_type": "markdown",
      "source": [
        "O ```open```, permite abrir um arquivo para leitura e escrita.\n",
        "\n",
        "    open(nome_do_arquivo, modo)\n",
        "\n",
        "    [Documentação oficial](https://docs.python.org/3/library/functions.html#open)\n",
        "\n",
        "Modos de uso:\n",
        "\n",
        "        * r - abre o arquivo para leitura.\n",
        "        * w - abre o arquivo para escrita, substituíndo o conteúdo\n",
        "        * x - avre o arquivo para escrita mas retorna erro caso o arquivo já existe (quando precisa ter um cuidado extra ao iniciar um novo arquivo).\n",
        "        * a - abre o arquivo para escrita acrescentando os dados no final do arquivo.\n",
        "        * + - pode ser lido e escrito simultaneamente.\n",
        "        * b - Modo binário. Associado com todos os demais, mas manipula o conteúdo em binário ao invés de clear text;\n",
        "        * t - Modo texto, já é o padrão.\n",
        "\n",
        "      Exemplos:\n",
        "          open(\"arquivo.txt\", \"r\")\n",
        "          open(\"arquivo.txt\", \"w\")\n",
        "          open(\"arquivo.txt\", \"x\")\n",
        "          open(\"arquivo.txt\", \"+\")\n",
        "\n",
        "\n",
        "          **Binário**\n",
        "          open(\"arquivo.txt\", \"br\")\n",
        "          open(\"arquivo.txt\", \"bw\")\n",
        "          open(\"arquivo.txt\", \"b+\")\n",
        "\n",
        "\n",
        "É possivel utilizar também as constantes do pacote OS:\n",
        "\n",
        "* os.O_RDONLY\n",
        "* os.O_WRONLY\n",
        "* os.O_RDWR\n",
        "* os.O_APPEND\n",
        "* os.O_CREAT\n",
        "* os.O_EXCL\n",
        "* os.O_TRUNC\n",
        "\n",
        "\n",
        "    "
      ],
      "metadata": {
        "id": "LDdc69lj8wlj"
      }
    },
    {
      "cell_type": "code",
      "source": [
        "import os"
      ],
      "metadata": {
        "id": "sOqXSFOz0YYm",
        "colab": {
          "base_uri": "https://localhost:8080/"
        },
        "outputId": "1a216ed7-92cd-4614-c90b-2d1fb497b3ec"
      },
      "execution_count": 7,
      "outputs": [
        {
          "output_type": "stream",
          "name": "stdout",
          "text": [
            "time: 657 µs (started: 2022-12-17 17:20:32 +00:00)\n"
          ]
        }
      ]
    },
    {
      "cell_type": "markdown",
      "source": [
        "## Gravando no arquivo\n",
        "\n",
        "método write e writelines\n"
      ],
      "metadata": {
        "id": "B94P_ptax7RE"
      }
    },
    {
      "cell_type": "markdown",
      "source": [
        "Primeiro importamos **o pacote python \"OS\"**. Este pacote possui importantes funções e métodos necessários para a comunicação com o sistema operacional, tais como leitura e escrita em arquivos e devices. "
      ],
      "metadata": {
        "id": "u6XGqhiRseZe"
      }
    },
    {
      "cell_type": "code",
      "source": [
        "#meuarquivo = open(\"arquivo_novo.txt\", \"w\", encoding=\"ascii\" )\n",
        "meuarquivo = open(\"arquivo_novo.txt\", \"w\", encoding=\"utf-8\" )"
      ],
      "metadata": {
        "colab": {
          "base_uri": "https://localhost:8080/"
        },
        "id": "mbFrVHuqsTW-",
        "outputId": "d43980eb-a22b-434d-f7d5-852aabdaea89"
      },
      "execution_count": 140,
      "outputs": [
        {
          "output_type": "stream",
          "name": "stdout",
          "text": [
            "time: 991 µs (started: 2022-12-17 19:11:57 +00:00)\n"
          ]
        }
      ]
    },
    {
      "cell_type": "markdown",
      "source": [
        "Conforme a tabelinha, nosso open irá utilizar o parâmetro \"W\"\" "
      ],
      "metadata": {
        "id": "mgTs_M32_iWU"
      }
    },
    {
      "cell_type": "markdown",
      "source": [
        "O `import random` não tem importancia para esta aula. \n",
        "\n",
        "Apenas queremos gerar 05 linhas realmente diferentes, para isso, utilizando o método randint(start,end) do pacote randon, iremos gerar alguns números aletórios."
      ],
      "metadata": {
        "id": "gYywbJOiEB9m"
      }
    },
    {
      "cell_type": "markdown",
      "source": [
        "### Usando o write()"
      ],
      "metadata": {
        "id": "biQrHVIOyOz0"
      }
    },
    {
      "cell_type": "code",
      "source": [
        "## Vamos escrever 5 linhas em nosso novo arquivo\n",
        "for i in range(1, 5):\n",
        "    numero_magico = random.randint(1,1000)\n",
        "    meuarquivo.write('{}. Escrevendo alguma coisa no arquivo, número mágico: {}\\n'.format(i, numero_magico)) # Esta é a linha que nos importa"
      ],
      "metadata": {
        "id": "uNk2c6Oq-Grj",
        "colab": {
          "base_uri": "https://localhost:8080/"
        },
        "outputId": "fe8d154e-1cc2-4423-e2e9-a2dab1094dc4"
      },
      "execution_count": 141,
      "outputs": [
        {
          "output_type": "stream",
          "name": "stdout",
          "text": [
            "time: 836 µs (started: 2022-12-17 19:11:59 +00:00)\n"
          ]
        }
      ]
    },
    {
      "cell_type": "code",
      "source": [
        "meuarquivo.close()"
      ],
      "metadata": {
        "id": "eEjP0Laq7jRR",
        "outputId": "4c5adef0-a031-4a8f-dd14-a8e2fb6d6ea0",
        "colab": {
          "base_uri": "https://localhost:8080/"
        }
      },
      "execution_count": 142,
      "outputs": [
        {
          "output_type": "stream",
          "name": "stdout",
          "text": [
            "time: 3.04 ms (started: 2022-12-17 19:12:04 +00:00)\n"
          ]
        }
      ]
    },
    {
      "cell_type": "code",
      "source": [
        "meuarquivo.write(\"Tentando gravar algo após o close()\")"
      ],
      "metadata": {
        "id": "C-dW-NNs-vuc",
        "outputId": "75a55fff-79de-42f1-f370-cf5202a53f4c",
        "colab": {
          "base_uri": "https://localhost:8080/",
          "height": 181
        }
      },
      "execution_count": 137,
      "outputs": [
        {
          "output_type": "error",
          "ename": "ValueError",
          "evalue": "ignored",
          "traceback": [
            "\u001b[0;31m---------------------------------------------------------------------------\u001b[0m",
            "\u001b[0;31mValueError\u001b[0m                                Traceback (most recent call last)",
            "\u001b[0;32m<ipython-input-137-d63d47676a0e>\u001b[0m in \u001b[0;36m<module>\u001b[0;34m\u001b[0m\n\u001b[0;32m----> 1\u001b[0;31m \u001b[0mmeuarquivo\u001b[0m\u001b[0;34m.\u001b[0m\u001b[0mwrite\u001b[0m\u001b[0;34m(\u001b[0m\u001b[0;34m\"Tentando gravar algo após o close()\"\u001b[0m\u001b[0;34m)\u001b[0m\u001b[0;34m\u001b[0m\u001b[0;34m\u001b[0m\u001b[0m\n\u001b[0m",
            "\u001b[0;31mValueError\u001b[0m: I/O operation on closed file."
          ]
        },
        {
          "output_type": "stream",
          "name": "stdout",
          "text": [
            "time: 14.7 ms (started: 2022-12-17 19:11:00 +00:00)\n"
          ]
        }
      ]
    },
    {
      "cell_type": "markdown",
      "source": [
        "O método close, sincroniza o que esta na memórica com o disco e \"despluga\" a varíavel meuarquivo para não haver mais manipulação no arquivo.\n",
        "\n",
        "Por isso após o .close() o python retornou erro."
      ],
      "metadata": {
        "id": "VeCMhXLd7pEb"
      }
    },
    {
      "cell_type": "markdown",
      "source": [
        "### Usando o writelines()"
      ],
      "metadata": {
        "id": "xDyGOChHyTb2"
      }
    },
    {
      "cell_type": "markdown",
      "source": [
        "\n",
        "Lembre-se estamos falando sobre o método writelines() mas para isso, vamos criar um caso de uso interessante para o uso deste método: \n",
        "\n",
        "Dado uma lista de novos logins vindo do RH para o processo de onboard BTG, vamos utilizar o método new_user() que criamos lá em cima para gerar o email e a senha temporária. \n",
        "\n"
      ],
      "metadata": {
        "id": "RXyILf6C2ej2"
      }
    },
    {
      "cell_type": "code",
      "source": [
        "novos_logins = ['beto', 'ana', 'claudia', 'roberto', 'jose', 'maria', 'cibele', 'patricia', 'eduardo', 'joao']"
      ],
      "metadata": {
        "id": "GC6GmGCKA5Py",
        "outputId": "524f5616-ce80-476c-80a8-a03db03c1774",
        "colab": {
          "base_uri": "https://localhost:8080/"
        }
      },
      "execution_count": 9,
      "outputs": [
        {
          "output_type": "stream",
          "name": "stdout",
          "text": [
            "time: 873 µs (started: 2022-12-17 17:20:39 +00:00)\n"
          ]
        }
      ]
    },
    {
      "cell_type": "code",
      "source": [
        "#gerando a lista de primeiro acesso dos novos colaborades na memória:\n",
        "novos_colabores = list()\n",
        "for login in novos_logins:\n",
        "    novos_colabores.append(new_user(login, 16)) # o .append() adiciona um novo registro em uma lista."
      ],
      "metadata": {
        "id": "EVDM7pALyghB",
        "outputId": "ea6ee107-b0e7-4312-e12d-c371242c897a",
        "colab": {
          "base_uri": "https://localhost:8080/"
        }
      },
      "execution_count": 10,
      "outputs": [
        {
          "output_type": "stream",
          "name": "stdout",
          "text": [
            "time: 1.03 ms (started: 2022-12-17 17:20:43 +00:00)\n"
          ]
        }
      ]
    },
    {
      "cell_type": "code",
      "source": [
        "# verificando como ficou a nossa lista novos_colaboradores\n",
        "novos_colabores"
      ],
      "metadata": {
        "id": "_Ccp8lS3AxI4",
        "outputId": "87fa98fe-c6e8-4f6e-a0d3-8e280661d4a9",
        "colab": {
          "base_uri": "https://localhost:8080/"
        }
      },
      "execution_count": 11,
      "outputs": [
        {
          "output_type": "execute_result",
          "data": {
            "text/plain": [
              "['login_rede: beto , email: beto@btgpactual.com ,  senha_temporaria: \"A4$~73H26::QY\\\\ME\" \\n',\n",
              " 'login_rede: ana , email: ana@btgpactual.com ,  senha_temporaria: \"228#!.%{}9,BHZT?\" \\n',\n",
              " 'login_rede: claudia , email: claudia@btgpactual.com ,  senha_temporaria: \"S>>HG>R#$-S;0`H0\" \\n',\n",
              " 'login_rede: roberto , email: roberto@btgpactual.com ,  senha_temporaria: \"5S[J\\'YU1@_U^YF1#\" \\n',\n",
              " 'login_rede: jose , email: jose@btgpactual.com ,  senha_temporaria: \"7)5KK\\'3^-,[3:)Q\"\" \\n',\n",
              " 'login_rede: maria , email: maria@btgpactual.com ,  senha_temporaria: \"V}W|U+A;8*FO_+<V\" \\n',\n",
              " 'login_rede: cibele , email: cibele@btgpactual.com ,  senha_temporaria: \"GPN_}`N1K][2$Q4/\" \\n',\n",
              " 'login_rede: patricia , email: patricia@btgpactual.com ,  senha_temporaria: \"8_U*[%|`N:~6MF)6\" \\n',\n",
              " 'login_rede: eduardo , email: eduardo@btgpactual.com ,  senha_temporaria: \"RX#VJ;S0=KU24B$I\" \\n',\n",
              " 'login_rede: joao , email: joao@btgpactual.com ,  senha_temporaria: \"$_<.1I8|OL^Z&+4_\" \\n']"
            ]
          },
          "metadata": {},
          "execution_count": 11
        },
        {
          "output_type": "stream",
          "name": "stdout",
          "text": [
            "time: 3.34 ms (started: 2022-12-17 17:20:48 +00:00)\n"
          ]
        }
      ]
    },
    {
      "cell_type": "markdown",
      "source": [
        "Até aqui, ainda não manipulamos arquivos. Criamos a partir de uma lista simples de logins, uma lista nova mais completa com email e senha temporarária.  Agora iremos gerar um arquivo em um padrão próximo do csv \n",
        "Login de rede ,  Email, Senha: "
      ],
      "metadata": {
        "id": "ZrBseOMyBBbU"
      }
    },
    {
      "cell_type": "code",
      "source": [
        "meuarquivo = open(\"novos_colaboradores.txt\", \"w\")"
      ],
      "metadata": {
        "id": "K2pV_Yp9ySwj",
        "outputId": "59b581a5-03d4-4077-82f8-a23bf0e92f37",
        "colab": {
          "base_uri": "https://localhost:8080/"
        }
      },
      "execution_count": 12,
      "outputs": [
        {
          "output_type": "stream",
          "name": "stdout",
          "text": [
            "time: 2.33 ms (started: 2022-12-17 17:20:57 +00:00)\n"
          ]
        }
      ]
    },
    {
      "cell_type": "code",
      "source": [
        "meuarquivo.writelines(novos_colabores)"
      ],
      "metadata": {
        "id": "2KKIGotQ4nqI",
        "outputId": "4df58ded-688d-49a9-9f65-dce4000b7f20",
        "colab": {
          "base_uri": "https://localhost:8080/"
        }
      },
      "execution_count": 13,
      "outputs": [
        {
          "output_type": "stream",
          "name": "stdout",
          "text": [
            "time: 723 µs (started: 2022-12-17 17:21:04 +00:00)\n"
          ]
        }
      ]
    },
    {
      "cell_type": "markdown",
      "source": [
        "Qual e a diferença afinal do write() e writelines() ?\n",
        "\n",
        "O **writelines()** que recebe um objeto iterável (seja uma lista, uma tupla, um dicionário, etc). Com este método, várias linhas poderão ser inseridas no arquivo, diferente do método `write() que só recebe uma string por vez`:\n",
        "\n",
        "Nos bastidores o writelines() le o dado dos iteráveis e grava utilizado o write():\n",
        "\n",
        "```\n",
        "def writelines(self, lines)\n",
        "    for line in lines:\n",
        "        self.write(line)\n",
        "```\n",
        "\n",
        "\n",
        "\n",
        "Para grandes arquivos, considere técnicas que execute menos write() possíveis.\n"
      ],
      "metadata": {
        "id": "CQxvLBYhCUfo"
      }
    },
    {
      "cell_type": "code",
      "source": [],
      "metadata": {
        "id": "nvVVGwlsEIhj"
      },
      "execution_count": null,
      "outputs": []
    },
    {
      "cell_type": "markdown",
      "source": [
        "#### Usando o Writeline() como fazer uso de uma única linha\n",
        "\n",
        "Como dito o writeline() é muito custoso para gravar 1 única string mas gerar uma lista de milhões de itens na memória para depois gravar, pode ser custoso também. \n",
        "\n",
        "Podemos reescrever o código acima utilizando um método mais pythonico."
      ],
      "metadata": {
        "id": "XVEGuhlEEJeC"
      }
    },
    {
      "cell_type": "code",
      "source": [
        "meuarquivo = open(\"novos_colaboradores.txt\", \"w\")"
      ],
      "metadata": {
        "id": "lalx9GexEqkM",
        "outputId": "6d326503-14ef-4c51-b48a-90fbf5ef99fc",
        "colab": {
          "base_uri": "https://localhost:8080/"
        }
      },
      "execution_count": 14,
      "outputs": [
        {
          "output_type": "stream",
          "name": "stdout",
          "text": [
            "time: 1.98 ms (started: 2022-12-17 17:21:19 +00:00)\n"
          ]
        }
      ]
    },
    {
      "cell_type": "code",
      "source": [
        "meuarquivo.writelines(new_user(login, 16) for login in novos_logins) "
      ],
      "metadata": {
        "id": "-eRrlUETEwGW",
        "outputId": "3a35b53c-b54c-4c9f-be85-0ca650655aeb",
        "colab": {
          "base_uri": "https://localhost:8080/"
        }
      },
      "execution_count": 15,
      "outputs": [
        {
          "output_type": "stream",
          "name": "stdout",
          "text": [
            "time: 1.15 ms (started: 2022-12-17 17:21:22 +00:00)\n"
          ]
        }
      ]
    },
    {
      "cell_type": "markdown",
      "source": [
        "Escrever neste modelo é pelo menos 50% mais performatico do que o outro código. "
      ],
      "metadata": {
        "id": "0uOaipAhGwI3"
      }
    },
    {
      "cell_type": "code",
      "source": [
        "meuarquivo.close() "
      ],
      "metadata": {
        "id": "gPUVdKWc-ZqW",
        "colab": {
          "base_uri": "https://localhost:8080/"
        },
        "outputId": "7d8b63f0-3d25-45d7-9cbe-1800b80c370b"
      },
      "execution_count": 16,
      "outputs": [
        {
          "output_type": "stream",
          "name": "stdout",
          "text": [
            "time: 905 µs (started: 2022-12-17 17:21:27 +00:00)\n"
          ]
        }
      ]
    },
    {
      "cell_type": "markdown",
      "source": [
        "## Leitura de arquivos\n",
        "Trabalhando com os métodos read e readline\n",
        "\n"
      ],
      "metadata": {
        "id": "y5qVxpquCb9s"
      }
    },
    {
      "cell_type": "markdown",
      "source": [
        "### Método READ()\n",
        "\n",
        "* ```read(tamanho)``` - Retorna um número definido de bytes(caracteres), vaziou ou -1 significa o arquivo inteirno."
      ],
      "metadata": {
        "id": "Sm3cp1eKHG_T"
      }
    },
    {
      "cell_type": "code",
      "source": [
        "arquivo = open(\"arquivo_novo.txt\", \"r\")\n"
      ],
      "metadata": {
        "id": "AD4xj97eP1dG",
        "outputId": "3f801886-a118-4811-c936-5f14cf23f27c",
        "colab": {
          "base_uri": "https://localhost:8080/"
        }
      },
      "execution_count": 129,
      "outputs": [
        {
          "output_type": "stream",
          "name": "stdout",
          "text": [
            "time: 2.12 ms (started: 2022-12-17 19:08:57 +00:00)\n"
          ]
        }
      ]
    },
    {
      "cell_type": "markdown",
      "source": [
        "* ```readlines()``` - todo o conteúdo do arquivo é salvo em uma lista, onde cada linha do arquivo será um elemento da lista."
      ],
      "metadata": {
        "id": "Opifmg9hNd5v"
      }
    },
    {
      "cell_type": "markdown",
      "source": [
        "## Metodo READLINE(tamanho)\n",
        "\n",
        "Retorna apenas uma linha ou informando a quantidade de caracteres(bytes) quer retornar da linha. "
      ],
      "metadata": {
        "id": "VoLSxLckOiKQ"
      }
    },
    {
      "cell_type": "markdown",
      "source": [
        "**Até aqui o que fizemos:**\n",
        "\n",
        "1.   Importamos a biblioteca python de CSV;\n",
        "2.   Usamos a função open() para abrir o arquivo \"base_de_salarios.csv\"; "
      ],
      "metadata": {
        "id": "nhTAOdLT0d30"
      }
    },
    {
      "cell_type": "code",
      "source": [
        "arquivo = open(\"arquivo_novo.txt\", \"r\")\n",
        "texto = arquivo.readline()\n",
        "print(texto)"
      ],
      "metadata": {
        "id": "1gfYi0rbPmGk",
        "outputId": "fadb4f00-e09f-4ef1-ef0e-481a3a46700b",
        "colab": {
          "base_uri": "https://localhost:8080/"
        }
      },
      "execution_count": 115,
      "outputs": [
        {
          "output_type": "stream",
          "name": "stdout",
          "text": [
            "1. Escrevendo alguma coisa no arquivo, número mágico: 666\n",
            "\n",
            "time: 2.79 ms (started: 2022-12-17 18:58:12 +00:00)\n"
          ]
        }
      ]
    },
    {
      "cell_type": "code",
      "source": [
        "arquivo = open(\"arquivo_novo.txt\", \"r\")\n",
        "arquivo"
      ],
      "metadata": {
        "id": "q33ghh-OdFpg",
        "outputId": "f2cd0423-682b-4d71-8641-e6b1eefcef0a",
        "colab": {
          "base_uri": "https://localhost:8080/"
        }
      },
      "execution_count": 138,
      "outputs": [
        {
          "output_type": "execute_result",
          "data": {
            "text/plain": [
              "<_io.TextIOWrapper name='arquivo_novo.txt' mode='r' encoding='UTF-8'>"
            ]
          },
          "metadata": {},
          "execution_count": 138
        },
        {
          "output_type": "stream",
          "name": "stdout",
          "text": [
            "time: 5.67 ms (started: 2022-12-17 19:11:07 +00:00)\n"
          ]
        }
      ]
    },
    {
      "cell_type": "code",
      "source": [
        "arquivo = open(\"arquivo_novo.txt\", \"r\")\n",
        "texto = arquivo.readline(25)\n",
        "print( \"Linha: {} - Qtd de caracteres: {}\".format(texto, len(texto)))\n",
        "\n",
        "# Lembrando que caracteres como acento contam como 2 bytes mas para a função len() é apenas 1 caracter"
      ],
      "metadata": {
        "id": "DnXLueYcP-1n",
        "outputId": "276411c6-8dcc-43da-f12e-683b49660e5f",
        "colab": {
          "base_uri": "https://localhost:8080/"
        }
      },
      "execution_count": 143,
      "outputs": [
        {
          "output_type": "stream",
          "name": "stdout",
          "text": [
            "Linha: 1. Escrevendo alguma cois - Qtd de caracteres: 25\n",
            "time: 3.5 ms (started: 2022-12-17 19:12:10 +00:00)\n"
          ]
        }
      ]
    },
    {
      "cell_type": "markdown",
      "source": [
        "## Metodo READLINES(tamanho)\n",
        "\n",
        "Retorna apenas uma linha ou informando a quantidade de caracteres(bytes) quer retornar da linha. "
      ],
      "metadata": {
        "id": "smWU7bX-gHYl"
      }
    },
    {
      "cell_type": "code",
      "source": [
        "arquivo = open(\"arquivo_novo.txt\", \"r\")\n",
        "lista_texto = arquivo.readlines()\n",
        "print(type(lista_texto))"
      ],
      "metadata": {
        "id": "_IuuT3kXgaon",
        "outputId": "58f712ad-d901-4329-e88e-0fcc8d73597f",
        "colab": {
          "base_uri": "https://localhost:8080/"
        }
      },
      "execution_count": 145,
      "outputs": [
        {
          "output_type": "stream",
          "name": "stdout",
          "text": [
            "<class 'list'>\n",
            "time: 1.31 ms (started: 2022-12-17 19:14:27 +00:00)\n"
          ]
        }
      ]
    },
    {
      "cell_type": "code",
      "source": [
        "lista_texto"
      ],
      "metadata": {
        "id": "XNgAKBlCgoHK",
        "outputId": "63f3beac-3add-4760-a777-83d81679d91c",
        "colab": {
          "base_uri": "https://localhost:8080/"
        }
      },
      "execution_count": 146,
      "outputs": [
        {
          "output_type": "execute_result",
          "data": {
            "text/plain": [
              "['1. Escrevendo alguma coisa no arquivo, número mágico: 669\\n',\n",
              " '2. Escrevendo alguma coisa no arquivo, número mágico: 439\\n',\n",
              " '3. Escrevendo alguma coisa no arquivo, número mágico: 3\\n',\n",
              " '4. Escrevendo alguma coisa no arquivo, número mágico: 94\\n']"
            ]
          },
          "metadata": {},
          "execution_count": 146
        },
        {
          "output_type": "stream",
          "name": "stdout",
          "text": [
            "time: 4.1 ms (started: 2022-12-17 19:14:44 +00:00)\n"
          ]
        }
      ]
    },
    {
      "cell_type": "markdown",
      "source": [
        "# TRABALHANDO COM ARQUIVOS ESPECÍFICOS: \n",
        "\n",
        "- CSV\n",
        "- XML\n",
        "- YML\n",
        "- JSON"
      ],
      "metadata": {
        "id": "OX4oOFOfgs4G"
      }
    },
    {
      "cell_type": "markdown",
      "source": [
        "## CSV\n",
        "\n",
        "O CSV é o mais simples de todos porque constiste em um arquivo que pode ser lido com um readline() e para cada linha, separa-se por contexto após cada virgula.\n",
        "\n",
        "Entretanto, há mecanismos mais simples para manipular csv."
      ],
      "metadata": {
        "id": "K82RSlz5g1bQ"
      }
    },
    {
      "cell_type": "code",
      "execution_count": 27,
      "metadata": {
        "id": "2c2DAHdGzveJ",
        "colab": {
          "base_uri": "https://localhost:8080/",
          "height": 198
        },
        "outputId": "3bba8688-9cc5-4643-d65c-4e7d9826efbd"
      },
      "outputs": [
        {
          "output_type": "error",
          "ename": "FileNotFoundError",
          "evalue": "ignored",
          "traceback": [
            "\u001b[0;31m---------------------------------------------------------------------------\u001b[0m",
            "\u001b[0;31mFileNotFoundError\u001b[0m                         Traceback (most recent call last)",
            "\u001b[0;32m<ipython-input-27-a986ce612b1a>\u001b[0m in \u001b[0;36m<module>\u001b[0;34m\u001b[0m\n\u001b[0;32m----> 1\u001b[0;31m \u001b[0mfile\u001b[0m \u001b[0;34m=\u001b[0m \u001b[0mopen\u001b[0m\u001b[0;34m(\u001b[0m\u001b[0;34m\"base_de_salarios.csv\"\u001b[0m\u001b[0;34m)\u001b[0m\u001b[0;34m\u001b[0m\u001b[0;34m\u001b[0m\u001b[0m\n\u001b[0m\u001b[1;32m      2\u001b[0m \u001b[0mtype\u001b[0m\u001b[0;34m(\u001b[0m\u001b[0mfile\u001b[0m\u001b[0;34m)\u001b[0m\u001b[0;34m\u001b[0m\u001b[0;34m\u001b[0m\u001b[0m\n",
            "\u001b[0;31mFileNotFoundError\u001b[0m: [Errno 2] No such file or directory: 'base_de_salarios.csv'"
          ]
        },
        {
          "output_type": "stream",
          "name": "stdout",
          "text": [
            "time: 87.2 ms (started: 2022-12-17 18:00:40 +00:00)\n"
          ]
        }
      ],
      "source": [
        "\n",
        "file = open(\"base_de_salarios.csv\")\n",
        "type(file)"
      ]
    },
    {
      "cell_type": "code",
      "source": [
        "leitor_csv = csv.reader(file)"
      ],
      "metadata": {
        "id": "qI2zUG_Q0SdO"
      },
      "execution_count": null,
      "outputs": []
    },
    {
      "cell_type": "markdown",
      "source": [
        "\n",
        "\n",
        "Usando o a função reader() da biblioteca csv; carregamos o conteúdo para dentro da variável leitor_csv; ⬆"
      ],
      "metadata": {
        "id": "_uL_tPPB1N8r"
      }
    },
    {
      "cell_type": "code",
      "source": [
        "cabecario = []\n",
        "cabecario = next(csvreader)\n",
        "cabecario"
      ],
      "metadata": {
        "id": "ahLXbzit08Oe"
      },
      "execution_count": null,
      "outputs": []
    },
    {
      "cell_type": "markdown",
      "source": [
        "Agora separamos o cabeçario, o que sobra? o conteúdo(linhas) é claro!"
      ],
      "metadata": {
        "id": "PCTq3WeP1yXE"
      }
    },
    {
      "cell_type": "code",
      "source": [
        "linhas = []\n",
        "for 1_linha in leitor_csv:\n",
        "    linhas.append(1_linha)"
      ],
      "metadata": {
        "id": "yu69XqN_17vB"
      },
      "execution_count": null,
      "outputs": []
    },
    {
      "cell_type": "markdown",
      "source": [
        "### Desta forma o que fizemos? \n",
        "\n",
        "\n",
        "`Usando o método de loop do python **FOR**,` realizamos a leitura linha por linha, (representada pela variável `1_linha`) existente no arquivo `\"base_de_salarios_csv\"` que foi representado pelo python através da variavel **`leitor_csv`**\n",
        "Para cara 1 linha existente no arquivo que é representado pela varíavel leitor_csv; "
      ],
      "metadata": {
        "id": "bdcIrVOc2L8K"
      }
    },
    {
      "cell_type": "code",
      "source": [],
      "metadata": {
        "id": "4q5-ra1a2Yrb"
      },
      "execution_count": null,
      "outputs": []
    },
    {
      "cell_type": "markdown",
      "source": [
        "Exclusão de arquivos"
      ],
      "metadata": {
        "id": "wkUsQskntn2f"
      }
    },
    {
      "cell_type": "code",
      "source": [
        "###\n",
        "# Path.exists() apenas verifica se o arquivo foi encontrado, retorando verdadeiro.\n",
        "##\n",
        "\n",
        "if os.path.exists(\"arquivo.txt\"): # Removendo um arquivo já existente\n",
        "    os.remove(\"arquivo.txt\") # <- O foco é este comando por hora...\n",
        "    print(\"Arquivo excluído\")\n",
        "else:\n",
        "    print (\"Arquivo não existe, será que já foi excluído?\")"
      ],
      "metadata": {
        "id": "llUTG9Pf9h3Y"
      },
      "execution_count": null,
      "outputs": []
    }
  ]
}