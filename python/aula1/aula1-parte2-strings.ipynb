{
 "cells": [
  {
   "cell_type": "markdown",
   "metadata": {},
   "source": [
    "# Strings\n",
    "\n",
    "Na programação, normalmente chamamos um conjunto de caracteres de strings. Para criar uma string é necessário delimitar com aspas duplas ou simples. Como por exemplo:"
   ]
  },
  {
   "cell_type": "code",
   "execution_count": 1,
   "metadata": {
    "collapsed": false
   },
   "outputs": [
    {
     "name": "stdout",
     "output_type": "stream",
     "text": [
      "Dino \"Magri\n",
      "Dino 'Magri\n",
      "Dino 'Magri \n",
      "Dino \"Magri\n"
     ]
    }
   ],
   "source": [
    "print('Dino \"Magri')\n",
    "print('Dino \\'Magri')\n",
    "print(\"Dino 'Magri \")\n",
    "print('Dino \"Magri')"
   ]
  },
  {
   "cell_type": "code",
   "execution_count": 2,
   "metadata": {
    "collapsed": false
   },
   "outputs": [
    {
     "ename": "SyntaxError",
     "evalue": "EOL while scanning string literal (<ipython-input-2-5e3ff12510e9>, line 1)",
     "output_type": "error",
     "traceback": [
      "\u001b[0;36m  File \u001b[0;32m\"<ipython-input-2-5e3ff12510e9>\"\u001b[0;36m, line \u001b[0;32m1\u001b[0m\n\u001b[0;31m    nome = \"Dino Magri\u001b[0m\n\u001b[0m                      ^\u001b[0m\n\u001b[0;31mSyntaxError\u001b[0m\u001b[0;31m:\u001b[0m EOL while scanning string literal\n"
     ]
    }
   ],
   "source": [
    "nome = \"Dino Magri"
   ]
  },
  {
   "cell_type": "markdown",
   "metadata": {},
   "source": [
    "**<span style=\"color:red;\">O que faltou?</span>**\n",
    "\n",
    "Faltou fechar as aspas duplas."
   ]
  },
  {
   "cell_type": "code",
   "execution_count": 3,
   "metadata": {
    "collapsed": false
   },
   "outputs": [],
   "source": [
    "nome = '''Dino\n",
    "Magri'''"
   ]
  },
  {
   "cell_type": "code",
   "execution_count": 4,
   "metadata": {
    "collapsed": false
   },
   "outputs": [
    {
     "name": "stdout",
     "output_type": "stream",
     "text": [
      "Dino\n",
      "Magri\n"
     ]
    }
   ],
   "source": [
    "print(nome)"
   ]
  },
  {
   "cell_type": "markdown",
   "metadata": {},
   "source": [
    "## O que podemos fazer com strings?\n",
    "\n",
    "* Podemos pular uma linha com o \\n e tabular com o \\t"
   ]
  },
  {
   "cell_type": "code",
   "execution_count": 5,
   "metadata": {
    "collapsed": false
   },
   "outputs": [
    {
     "name": "stdout",
     "output_type": "stream",
     "text": [
      "Eu \n",
      " sou uma \n",
      "\t string\n"
     ]
    }
   ],
   "source": [
    "print(\"Eu \\n sou uma \\n\\t string\")"
   ]
  },
  {
   "cell_type": "markdown",
   "metadata": {},
   "source": [
    "* Podemos utilizar o prefixo r para que os caracteres de escape não sejam processados (raw strings)"
   ]
  },
  {
   "cell_type": "code",
   "execution_count": 6,
   "metadata": {
    "collapsed": false
   },
   "outputs": [
    {
     "name": "stdout",
     "output_type": "stream",
     "text": [
      "Testando os caracteres de escape \\n e \\t\n"
     ]
    }
   ],
   "source": [
    "teste = r\"Testando os caracteres de escape \\n e \\t\"\n",
    "print(teste)"
   ]
  },
  {
   "cell_type": "markdown",
   "metadata": {},
   "source": [
    "### Placeholders"
   ]
  },
  {
   "cell_type": "markdown",
   "metadata": {},
   "source": [
    "* Para substituir símbolos em strings, podemos utilizar a função format"
   ]
  },
  {
   "cell_type": "code",
   "execution_count": 7,
   "metadata": {
    "collapsed": false
   },
   "outputs": [
    {
     "name": "stdout",
     "output_type": "stream",
     "text": [
      "A FIA tem 35 anos de idade\n"
     ]
    }
   ],
   "source": [
    "nome = \"FIA\"\n",
    "idade = 35\n",
    "print(\"A {0} tem {1} anos de idade\".format(nome, idade))"
   ]
  },
  {
   "cell_type": "markdown",
   "metadata": {},
   "source": [
    "* Também podemos definir as casas decimais que queremos imprimir."
   ]
  },
  {
   "cell_type": "code",
   "execution_count": 8,
   "metadata": {
    "collapsed": false
   },
   "outputs": [
    {
     "name": "stdout",
     "output_type": "stream",
     "text": [
      "3.141592653589793\n",
      "O número pi com 300 casas decimais é 3.141592653589793115997963468544185161590576171875000000000000000000000000000000000000000000000000000000000000000000000000000000000000000000000000000000000000000000000000000000000000000000000000000000000000000000000000000000000000000000000000000000000000000000000000000000000000000000000000000000000000\n"
     ]
    }
   ],
   "source": [
    "import math\n",
    "pi = math.pi\n",
    "print(pi)\n",
    "\n",
    "print(\"O número pi com {1} casas decimais é {0:1.{1}f}\".format(pi, 300))"
   ]
  },
  {
   "cell_type": "markdown",
   "metadata": {},
   "source": [
    "### Conctenar Strings"
   ]
  },
  {
   "cell_type": "code",
   "execution_count": 9,
   "metadata": {
    "collapsed": true
   },
   "outputs": [],
   "source": [
    "palavra = \"Teste\" + \"-\" + \"Z\""
   ]
  },
  {
   "cell_type": "code",
   "execution_count": 10,
   "metadata": {
    "collapsed": false
   },
   "outputs": [
    {
     "name": "stdout",
     "output_type": "stream",
     "text": [
      "Teste-Z\n"
     ]
    }
   ],
   "source": [
    "print(palavra)"
   ]
  },
  {
   "cell_type": "markdown",
   "metadata": {},
   "source": [
    "### Multiplicar Strings"
   ]
  },
  {
   "cell_type": "code",
   "execution_count": 11,
   "metadata": {
    "collapsed": false
   },
   "outputs": [
    {
     "name": "stdout",
     "output_type": "stream",
     "text": [
      "Multiplicando strings:\n",
      "Teste-ZTeste-ZTeste-Z\n"
     ]
    }
   ],
   "source": [
    "print(\"Multiplicando strings:\\n\" + palavra * 3)"
   ]
  },
  {
   "cell_type": "markdown",
   "metadata": {},
   "source": [
    "### Quantidade de caracteres\n",
    "\n",
    "* Podemos saber quantos caracteres contém uma string, para isso utilizamos uma função ```len```."
   ]
  },
  {
   "cell_type": "code",
   "execution_count": 12,
   "metadata": {
    "collapsed": true
   },
   "outputs": [],
   "source": [
    "mensagem = \"Big Data + FIA\""
   ]
  },
  {
   "cell_type": "code",
   "execution_count": 13,
   "metadata": {
    "collapsed": true
   },
   "outputs": [],
   "source": [
    "tamanho = len(mensagem)"
   ]
  },
  {
   "cell_type": "code",
   "execution_count": 14,
   "metadata": {
    "collapsed": false
   },
   "outputs": [
    {
     "name": "stdout",
     "output_type": "stream",
     "text": [
      "14\n"
     ]
    }
   ],
   "source": [
    "print(tamanho)"
   ]
  },
  {
   "cell_type": "code",
   "execution_count": 15,
   "metadata": {
    "collapsed": false
   },
   "outputs": [
    {
     "name": "stdout",
     "output_type": "stream",
     "text": [
      "e\n"
     ]
    }
   ],
   "source": [
    "weder = \"teste\"\n",
    "print (weder[1:2])\n"
   ]
  },
  {
   "cell_type": "markdown",
   "metadata": {},
   "source": [
    "## Como funciona o index e o fatiamento (slice) de strings?\n",
    "\n",
    "![Slices](slice.png)\n",
    "\n",
    "Fonte: http://goo.gl/agfSe5"
   ]
  },
  {
   "cell_type": "code",
   "execution_count": 16,
   "metadata": {
    "collapsed": true
   },
   "outputs": [],
   "source": [
    "a = \"Eu sou uma string\""
   ]
  },
  {
   "cell_type": "code",
   "execution_count": 17,
   "metadata": {
    "collapsed": false
   },
   "outputs": [
    {
     "name": "stdout",
     "output_type": "stream",
     "text": [
      "E\n"
     ]
    }
   ],
   "source": [
    "# Imprimindo o primeiro elemento\n",
    "print(a[0])"
   ]
  },
  {
   "cell_type": "code",
   "execution_count": 18,
   "metadata": {
    "collapsed": false
   },
   "outputs": [
    {
     "name": "stdout",
     "output_type": "stream",
     "text": [
      "Eu sou\n"
     ]
    }
   ],
   "source": [
    "# Imprimindo os 6 primeiros caracteres \n",
    "print(a[:6])"
   ]
  },
  {
   "cell_type": "code",
   "execution_count": 19,
   "metadata": {
    "collapsed": false
   },
   "outputs": [
    {
     "name": "stdout",
     "output_type": "stream",
     "text": [
      "string\n"
     ]
    }
   ],
   "source": [
    "# Imprimindo os 6 últimos caracteres\n",
    "print(a[-6:])"
   ]
  },
  {
   "cell_type": "code",
   "execution_count": 20,
   "metadata": {
    "collapsed": false
   },
   "outputs": [
    {
     "name": "stdout",
     "output_type": "stream",
     "text": [
      "u so\n"
     ]
    }
   ],
   "source": [
    "# Imprimindo um intervalo\n",
    "print(a[1:5])"
   ]
  },
  {
   "cell_type": "code",
   "execution_count": 21,
   "metadata": {
    "collapsed": false
   },
   "outputs": [
    {
     "name": "stdout",
     "output_type": "stream",
     "text": [
      "Eu sou uma strin\n"
     ]
    }
   ],
   "source": [
    "# Imprimindo tudo menos o último caractere\n",
    "print(a[:-1])"
   ]
  },
  {
   "cell_type": "markdown",
   "metadata": {},
   "source": [
    "## Os métodos que existem por padrão em uma string!\n",
    "\n",
    "Métodos são blocos de código que tem um nome e realizam alguma tarefa.\n",
    "\n",
    "Por exemplo, quando criamos a variável ```nome```, definimos que seu valor era ```'Dino Magri'```. Quando o Python de fato definiu esse valor a variável nome, ele também definiu seu tipo.\n",
    "\n",
    "**Como ele fez isso?**\n",
    "\n",
    "Bom, como vimos na começo da aula Python tem tipagem dinâmica e forte, ou seja, ele realiza as conversões necessárias para identificar o tipo de um determinado valor. \n",
    "\n",
    "Para checar o tipo basta utilizar a função ```type(nome_variável)```"
   ]
  },
  {
   "cell_type": "code",
   "execution_count": 22,
   "metadata": {
    "collapsed": false
   },
   "outputs": [
    {
     "name": "stdout",
     "output_type": "stream",
     "text": [
      "<class 'str'>\n"
     ]
    }
   ],
   "source": [
    "print(type(nome))"
   ]
  },
  {
   "cell_type": "markdown",
   "metadata": {},
   "source": [
    "No momento da criação da variável e da atribuição de seu tipo, Python disponibiliza diversos métodos que realizam diferentes tipos de ações de acordo com esse tipo associado.\n",
    "\n",
    "Esses métodos tem nome e recebem argumentos como parâmetro. Lembre-se da função len(), que conta quantos caracteres tem em uma string, recebe 1 argumento. Ou seja, a variável que contêm o valor da string é passada como parâmetro. ```print(len(nome))```.\n",
    "\n",
    "Por exemplo, se quisermos alterar o nome todo para maiusculo, Python disponibiliza um método que faz isso.\n",
    "\n",
    "**Note que para chamar o método de uma variável, utilizamos o ponto seguido pelo nome do método.**"
   ]
  },
  {
   "cell_type": "code",
   "execution_count": 23,
   "metadata": {
    "collapsed": false
   },
   "outputs": [
    {
     "name": "stdout",
     "output_type": "stream",
     "text": [
      "Dino Magri\n",
      "DINO MAGRI\n"
     ]
    }
   ],
   "source": [
    "nome = 'Dino Magri'\n",
    "print(nome)\n",
    "print(nome.upper())"
   ]
  },
  {
   "cell_type": "markdown",
   "metadata": {},
   "source": [
    "* Contar quantas vezes aparecer um determinado caractere"
   ]
  },
  {
   "cell_type": "code",
   "execution_count": 24,
   "metadata": {
    "collapsed": false
   },
   "outputs": [
    {
     "data": {
      "text/plain": [
       "2"
      ]
     },
     "execution_count": 24,
     "metadata": {},
     "output_type": "execute_result"
    }
   ],
   "source": [
    "mensagem.count('a')"
   ]
  },
  {
   "cell_type": "markdown",
   "metadata": {},
   "source": [
    "* Podemos deixar tudo minúsculo"
   ]
  },
  {
   "cell_type": "code",
   "execution_count": 25,
   "metadata": {
    "collapsed": false
   },
   "outputs": [
    {
     "data": {
      "text/plain": [
       "'big data + fia'"
      ]
     },
     "execution_count": 25,
     "metadata": {},
     "output_type": "execute_result"
    }
   ],
   "source": [
    "mensagem.lower()"
   ]
  },
  {
   "cell_type": "markdown",
   "metadata": {},
   "source": [
    "* Podemos modificar a string para ter uma versão no estilo de título"
   ]
  },
  {
   "cell_type": "code",
   "execution_count": 26,
   "metadata": {
    "collapsed": false
   },
   "outputs": [
    {
     "data": {
      "text/plain": [
       "'Big Data + Fia'"
      ]
     },
     "execution_count": 26,
     "metadata": {},
     "output_type": "execute_result"
    }
   ],
   "source": [
    "mensagem.title()"
   ]
  },
  {
   "cell_type": "markdown",
   "metadata": {},
   "source": [
    "* Podemos verificar se uma string começa ou termina com um determinado texto. Isso é útil para encontrar arquivos com determinadas extensões, URLs, entre outros."
   ]
  },
  {
   "cell_type": "code",
   "execution_count": 27,
   "metadata": {
    "collapsed": false
   },
   "outputs": [
    {
     "data": {
      "text/plain": [
       "False"
      ]
     },
     "execution_count": 27,
     "metadata": {},
     "output_type": "execute_result"
    }
   ],
   "source": [
    "mensagem.startswith('b')"
   ]
  },
  {
   "cell_type": "code",
   "execution_count": 28,
   "metadata": {
    "collapsed": false
   },
   "outputs": [
    {
     "data": {
      "text/plain": [
       "True"
      ]
     },
     "execution_count": 28,
     "metadata": {},
     "output_type": "execute_result"
    }
   ],
   "source": [
    "nomearquivo = 'spam.txt'\n",
    "nomearquivo.endswith('.txt')"
   ]
  },
  {
   "cell_type": "code",
   "execution_count": 29,
   "metadata": {
    "collapsed": false
   },
   "outputs": [
    {
     "data": {
      "text/plain": [
       "True"
      ]
     },
     "execution_count": 29,
     "metadata": {},
     "output_type": "execute_result"
    }
   ],
   "source": [
    "url = 'http://dinomagri.com'\n",
    "url.startswith('http:')"
   ]
  },
  {
   "cell_type": "markdown",
   "metadata": {},
   "source": [
    "* Outros métodos de strings podem ser encontradas em https://docs.python.org/3/library/stdtypes.html#string-methods\n",
    "\n",
    "## Exercício de strings\n",
    "\n",
    "1 - Crie um string \"Eu estou programando em Python\" na variável txt.\n",
    "\n",
    "* a) Imprima a primeira letra de txt utilizando colchetes (e.g. txt[NUM])\n",
    "* b) Imprima a letra g.\n",
    "* c) Imprima a palavra estou\n",
    "* d) Imprima as ultimas 4 letras\n",
    "* e) Imprima o texto a partir do index 9 e mostre qual o texto resultante"
   ]
  },
  {
   "cell_type": "code",
   "execution_count": 30,
   "metadata": {
    "collapsed": false
   },
   "outputs": [
    {
     "name": "stdout",
     "output_type": "stream",
     "text": [
      "E\n",
      "g\n",
      "estou\n",
      "thon\n",
      "programando em Python\n",
      "EU ESTOU PROGRAMANDO EM PYTHON\n",
      "eu estou programando em python\n",
      "30\n",
      "12\n",
      "12\n"
     ]
    }
   ],
   "source": [
    "txt = \"Eu estou programando em Python\"\n",
    "print (txt[0])\n",
    "print (txt[12])\n",
    "print (txt[3:8])\n",
    "print (txt[-4:])\n",
    "print (txt[9:])\n",
    "print (txt.upper())\n",
    "print (txt.lower())\n",
    "print (len(txt))\n",
    "print (txt.index(\"g\"))\n",
    "print (txt.find(\"g\"))\n"
   ]
  },
  {
   "cell_type": "markdown",
   "metadata": {
    "collapsed": true
   },
   "source": [
    "2 - Utilize os seguintes métodos:\n",
    "* a) Upper, lower, len e title\n",
    "* b) Conte (count) quantas letras [a, o] existem\n",
    "* c) Retorne o index da letra g\n",
    "* d) Procure (find) o index inicial da palavra Python"
   ]
  }
 ],
 "metadata": {
  "kernelspec": {
   "display_name": "Python 3",
   "language": "python",
   "name": "python3"
  },
  "language_info": {
   "codemirror_mode": {
    "name": "ipython",
    "version": 3
   },
   "file_extension": ".py",
   "mimetype": "text/x-python",
   "name": "python",
   "nbconvert_exporter": "python",
   "pygments_lexer": "ipython3",
   "version": "3.5.2"
  }
 },
 "nbformat": 4,
 "nbformat_minor": 0
}
