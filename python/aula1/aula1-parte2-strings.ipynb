{
  "cells": [
    {
      "cell_type": "markdown",
      "metadata": {
        "id": "jGr3t8KCqM1n"
      },
      "source": [
        "# Strings\n",
        "\n",
        "Na programação, normalmente chamamos um conjunto de caracteres de strings. Para criar uma string é necessário delimitar com aspas duplas ou simples. Como por exemplo:"
      ]
    },
    {
      "cell_type": "code",
      "execution_count": 1,
      "metadata": {
        "id": "ZXgxEDMiqM1q",
        "outputId": "98334ff7-a1c8-4d20-9b95-f5f474175175",
        "colab": {
          "base_uri": "https://localhost:8080/"
        }
      },
      "outputs": [
        {
          "output_type": "stream",
          "name": "stdout",
          "text": [
            "Reliability \"Engineering\n",
            "Reliability 'Engineering\n",
            "Reliability 'Engineering \n",
            "Reliability \"Reliability\n"
          ]
        }
      ],
      "source": [
        "print('Reliability \"Engineering')\n",
        "print('Reliability \\'Engineering')\n",
        "print(\"Reliability 'Engineering \")\n",
        "print('Reliability \"Reliability')"
      ]
    },
    {
      "cell_type": "code",
      "execution_count": null,
      "metadata": {
        "id": "GKI3R0bRqM1r",
        "outputId": "9ff345b3-f509-434a-9d29-368d78633773"
      },
      "outputs": [
        {
          "ename": "SyntaxError",
          "evalue": "EOL while scanning string literal (<ipython-input-2-5e3ff12510e9>, line 1)",
          "output_type": "error",
          "traceback": [
            "\u001b[0;36m  File \u001b[0;32m\"<ipython-input-2-5e3ff12510e9>\"\u001b[0;36m, line \u001b[0;32m1\u001b[0m\n\u001b[0;31m    nome = \"Dino Magri\u001b[0m\n\u001b[0m                      ^\u001b[0m\n\u001b[0;31mSyntaxError\u001b[0m\u001b[0;31m:\u001b[0m EOL while scanning string literal\n"
          ]
        }
      ],
      "source": [
        "nome = \"Dino Magri"
      ]
    },
    {
      "cell_type": "markdown",
      "metadata": {
        "id": "ctaStZZCqM1r"
      },
      "source": [
        "**<span style=\"color:red;\">O que faltou?</span>**\n",
        "\n",
        "Faltou fechar as aspas duplas."
      ]
    },
    {
      "cell_type": "code",
      "execution_count": null,
      "metadata": {
        "id": "Es_DgMHrqM1r"
      },
      "outputs": [],
      "source": [
        "nome = '''Dino\n",
        "Magri'''"
      ]
    },
    {
      "cell_type": "code",
      "execution_count": null,
      "metadata": {
        "id": "TA25SewAqM1r",
        "outputId": "24c2ecf4-1ef5-4822-b26d-af7487b4783f"
      },
      "outputs": [
        {
          "name": "stdout",
          "output_type": "stream",
          "text": [
            "Dino\n",
            "Magri\n"
          ]
        }
      ],
      "source": [
        "print(nome)"
      ]
    },
    {
      "cell_type": "markdown",
      "metadata": {
        "id": "KLbMy9hBqM1s"
      },
      "source": [
        "## O que podemos fazer com strings?\n",
        "\n",
        "* Podemos pular uma linha com o \\n e tabular com o \\t"
      ]
    },
    {
      "cell_type": "code",
      "execution_count": null,
      "metadata": {
        "id": "1Lq8QEkAqM1s",
        "outputId": "eb2ef092-29c5-4019-d2a4-0932170e9557"
      },
      "outputs": [
        {
          "name": "stdout",
          "output_type": "stream",
          "text": [
            "Eu \n",
            " sou uma \n",
            "\t string\n"
          ]
        }
      ],
      "source": [
        "print(\"Eu \\n sou uma \\n\\t string\")"
      ]
    },
    {
      "cell_type": "markdown",
      "metadata": {
        "id": "TsY38TWSqM1s"
      },
      "source": [
        "* Podemos utilizar o prefixo r para que os caracteres de escape não sejam processados (raw strings)"
      ]
    },
    {
      "cell_type": "code",
      "execution_count": null,
      "metadata": {
        "id": "RsjuEQUpqM1s",
        "outputId": "383f1c8f-57a0-4ab1-a0d4-a040f5f1fa1b"
      },
      "outputs": [
        {
          "name": "stdout",
          "output_type": "stream",
          "text": [
            "Testando os caracteres de escape \\n e \\t\n"
          ]
        }
      ],
      "source": [
        "teste = r\"Testando os caracteres de escape \\n e \\t\"\n",
        "print(teste)"
      ]
    },
    {
      "cell_type": "markdown",
      "metadata": {
        "id": "rvZPASk8qM1t"
      },
      "source": [
        "### Placeholders"
      ]
    },
    {
      "cell_type": "markdown",
      "metadata": {
        "id": "TJ1mwNSnqM1t"
      },
      "source": [
        "* Para substituir símbolos em strings, podemos utilizar a função format"
      ]
    },
    {
      "cell_type": "code",
      "execution_count": null,
      "metadata": {
        "id": "3TqayqERqM1t",
        "outputId": "ee4e2fb2-aee6-4d93-cf70-e0a08f48054f"
      },
      "outputs": [
        {
          "name": "stdout",
          "output_type": "stream",
          "text": [
            "A FIA tem 35 anos de idade\n"
          ]
        }
      ],
      "source": [
        "nome = \"FIA\"\n",
        "idade = 35\n",
        "print(\"A {0} tem {1} anos de idade\".format(nome, idade))"
      ]
    },
    {
      "cell_type": "markdown",
      "metadata": {
        "id": "JlFKYQBZqM1t"
      },
      "source": [
        "* Também podemos definir as casas decimais que queremos imprimir."
      ]
    },
    {
      "cell_type": "code",
      "execution_count": null,
      "metadata": {
        "id": "K4zJFraCqM1t",
        "outputId": "68e016b3-0444-4896-e944-ce2bebbd6b7c"
      },
      "outputs": [
        {
          "name": "stdout",
          "output_type": "stream",
          "text": [
            "3.141592653589793\n",
            "O número pi com 300 casas decimais é 3.141592653589793115997963468544185161590576171875000000000000000000000000000000000000000000000000000000000000000000000000000000000000000000000000000000000000000000000000000000000000000000000000000000000000000000000000000000000000000000000000000000000000000000000000000000000000000000000000000000000000\n"
          ]
        }
      ],
      "source": [
        "import math\n",
        "pi = math.pi\n",
        "print(pi)\n",
        "\n",
        "print(\"O número pi com {1} casas decimais é {0:1.{1}f}\".format(pi, 300))"
      ]
    },
    {
      "cell_type": "markdown",
      "metadata": {
        "id": "NyHuA14fqM1u"
      },
      "source": [
        "### Conctenar Strings"
      ]
    },
    {
      "cell_type": "code",
      "execution_count": null,
      "metadata": {
        "collapsed": true,
        "id": "bIgbYKx8qM1u"
      },
      "outputs": [],
      "source": [
        "palavra = \"Teste\" + \"-\" + \"Z\""
      ]
    },
    {
      "cell_type": "code",
      "execution_count": null,
      "metadata": {
        "id": "ptLhTIE9qM1u",
        "outputId": "dafd9cf6-95ed-4a96-8ad5-006b27038a0d"
      },
      "outputs": [
        {
          "name": "stdout",
          "output_type": "stream",
          "text": [
            "Teste-Z\n"
          ]
        }
      ],
      "source": [
        "print(palavra)"
      ]
    },
    {
      "cell_type": "markdown",
      "metadata": {
        "id": "l7r_c-u5qM1u"
      },
      "source": [
        "### Multiplicar Strings"
      ]
    },
    {
      "cell_type": "code",
      "execution_count": null,
      "metadata": {
        "id": "trhg9tmTqM1u",
        "outputId": "05d9a807-1c21-40c7-97ab-18b331871786"
      },
      "outputs": [
        {
          "name": "stdout",
          "output_type": "stream",
          "text": [
            "Multiplicando strings:\n",
            "Teste-ZTeste-ZTeste-Z\n"
          ]
        }
      ],
      "source": [
        "print(\"Multiplicando strings:\\n\" + palavra * 3)"
      ]
    },
    {
      "cell_type": "markdown",
      "metadata": {
        "id": "2D7sMwATqM1u"
      },
      "source": [
        "### Quantidade de caracteres\n",
        "\n",
        "* Podemos saber quantos caracteres contém uma string, para isso utilizamos uma função ```len```."
      ]
    },
    {
      "cell_type": "code",
      "execution_count": null,
      "metadata": {
        "collapsed": true,
        "id": "Xmosge2nqM1v"
      },
      "outputs": [],
      "source": [
        "mensagem = \"Big Data + FIA\""
      ]
    },
    {
      "cell_type": "code",
      "execution_count": null,
      "metadata": {
        "collapsed": true,
        "id": "88wLBjHOqM1v"
      },
      "outputs": [],
      "source": [
        "tamanho = len(mensagem)"
      ]
    },
    {
      "cell_type": "code",
      "execution_count": null,
      "metadata": {
        "id": "WjydJJQ1qM1v",
        "outputId": "5b04337c-1f2b-4abc-a0c7-368986b200a5"
      },
      "outputs": [
        {
          "name": "stdout",
          "output_type": "stream",
          "text": [
            "14\n"
          ]
        }
      ],
      "source": [
        "print(tamanho)"
      ]
    },
    {
      "cell_type": "code",
      "execution_count": null,
      "metadata": {
        "id": "K3TvObChqM1v",
        "outputId": "135c145c-800d-4ed8-e7ea-74c0b38d9ef1"
      },
      "outputs": [
        {
          "name": "stdout",
          "output_type": "stream",
          "text": [
            "e\n"
          ]
        }
      ],
      "source": [
        "weder = \"teste\"\n",
        "print (weder[1:2])\n"
      ]
    },
    {
      "cell_type": "markdown",
      "metadata": {
        "id": "Po8fY6tGqM1v"
      },
      "source": [
        "## Como funciona o index e o fatiamento (slice) de strings?\n",
        "\n",
        "![Slices](https://github.com/csmanioto/mba_bigdata_fia/blob/main/python/aula1/slice.png?raw=1)\n",
        "\n",
        "Fonte: http://goo.gl/agfSe5"
      ]
    },
    {
      "cell_type": "code",
      "execution_count": null,
      "metadata": {
        "collapsed": true,
        "id": "E7WpTta8qM1v"
      },
      "outputs": [],
      "source": [
        "a = \"Eu sou uma string\""
      ]
    },
    {
      "cell_type": "code",
      "execution_count": null,
      "metadata": {
        "id": "xyfcr9PPqM1w",
        "outputId": "a30bd99e-5b78-4a74-d445-61a3d35ffd8b"
      },
      "outputs": [
        {
          "name": "stdout",
          "output_type": "stream",
          "text": [
            "E\n"
          ]
        }
      ],
      "source": [
        "# Imprimindo o primeiro elemento\n",
        "print(a[0])"
      ]
    },
    {
      "cell_type": "code",
      "execution_count": null,
      "metadata": {
        "id": "ECGWyINWqM1w",
        "outputId": "2167038c-8244-49d2-ffa8-6f00852f02d2"
      },
      "outputs": [
        {
          "name": "stdout",
          "output_type": "stream",
          "text": [
            "Eu sou\n"
          ]
        }
      ],
      "source": [
        "# Imprimindo os 6 primeiros caracteres \n",
        "print(a[:6])"
      ]
    },
    {
      "cell_type": "code",
      "execution_count": null,
      "metadata": {
        "id": "u1mETrrjqM1w",
        "outputId": "2f3e06cb-bdd2-4b0d-cbef-15037858c71b"
      },
      "outputs": [
        {
          "name": "stdout",
          "output_type": "stream",
          "text": [
            "string\n"
          ]
        }
      ],
      "source": [
        "# Imprimindo os 6 últimos caracteres\n",
        "print(a[-6:])"
      ]
    },
    {
      "cell_type": "code",
      "execution_count": null,
      "metadata": {
        "id": "PAN83DNyqM1w",
        "outputId": "0e341198-0dfe-4fb9-a903-60af7c844f74"
      },
      "outputs": [
        {
          "name": "stdout",
          "output_type": "stream",
          "text": [
            "u so\n"
          ]
        }
      ],
      "source": [
        "# Imprimindo um intervalo\n",
        "print(a[1:5])"
      ]
    },
    {
      "cell_type": "code",
      "execution_count": null,
      "metadata": {
        "id": "ah2VmGyyqM1w",
        "outputId": "049fa79a-f794-4b7a-8e99-f91857f206c6"
      },
      "outputs": [
        {
          "name": "stdout",
          "output_type": "stream",
          "text": [
            "Eu sou uma strin\n"
          ]
        }
      ],
      "source": [
        "# Imprimindo tudo menos o último caractere\n",
        "print(a[:-1])"
      ]
    },
    {
      "cell_type": "markdown",
      "metadata": {
        "id": "tECPDvlDqM1x"
      },
      "source": [
        "## Os métodos que existem por padrão em uma string!\n",
        "\n",
        "Métodos são blocos de código que tem um nome e realizam alguma tarefa.\n",
        "\n",
        "Por exemplo, quando criamos a variável ```nome```, definimos que seu valor era ```'Dino Magri'```. Quando o Python de fato definiu esse valor a variável nome, ele também definiu seu tipo.\n",
        "\n",
        "**Como ele fez isso?**\n",
        "\n",
        "Bom, como vimos na começo da aula Python tem tipagem dinâmica e forte, ou seja, ele realiza as conversões necessárias para identificar o tipo de um determinado valor. \n",
        "\n",
        "Para checar o tipo basta utilizar a função ```type(nome_variável)```"
      ]
    },
    {
      "cell_type": "code",
      "execution_count": null,
      "metadata": {
        "id": "FYRSPNZTqM1x",
        "outputId": "b0e87db2-cd36-4379-ca60-0a229f53ecd0"
      },
      "outputs": [
        {
          "name": "stdout",
          "output_type": "stream",
          "text": [
            "<class 'str'>\n"
          ]
        }
      ],
      "source": [
        "print(type(nome))"
      ]
    },
    {
      "cell_type": "markdown",
      "metadata": {
        "id": "9Wvlgn6jqM1y"
      },
      "source": [
        "No momento da criação da variável e da atribuição de seu tipo, Python disponibiliza diversos métodos que realizam diferentes tipos de ações de acordo com esse tipo associado.\n",
        "\n",
        "Esses métodos tem nome e recebem argumentos como parâmetro. Lembre-se da função len(), que conta quantos caracteres tem em uma string, recebe 1 argumento. Ou seja, a variável que contêm o valor da string é passada como parâmetro. ```print(len(nome))```.\n",
        "\n",
        "Por exemplo, se quisermos alterar o nome todo para maiusculo, Python disponibiliza um método que faz isso.\n",
        "\n",
        "**Note que para chamar o método de uma variável, utilizamos o ponto seguido pelo nome do método.**"
      ]
    },
    {
      "cell_type": "code",
      "execution_count": null,
      "metadata": {
        "id": "n7TwpgKaqM1z",
        "outputId": "49a65a16-c42d-4453-9b49-0862a58a5d50"
      },
      "outputs": [
        {
          "name": "stdout",
          "output_type": "stream",
          "text": [
            "Dino Magri\n",
            "DINO MAGRI\n"
          ]
        }
      ],
      "source": [
        "nome = 'Dino Magri'\n",
        "print(nome)\n",
        "print(nome.upper())"
      ]
    },
    {
      "cell_type": "markdown",
      "metadata": {
        "id": "Fkp7xXkyqM1z"
      },
      "source": [
        "* Contar quantas vezes aparecer um determinado caractere"
      ]
    },
    {
      "cell_type": "code",
      "execution_count": null,
      "metadata": {
        "id": "Ypy-eYpWqM1z",
        "outputId": "b6dec069-54fc-4642-a0c6-07d14c52b8ba"
      },
      "outputs": [
        {
          "data": {
            "text/plain": [
              "2"
            ]
          },
          "execution_count": 24,
          "metadata": {},
          "output_type": "execute_result"
        }
      ],
      "source": [
        "mensagem.count('a')"
      ]
    },
    {
      "cell_type": "markdown",
      "metadata": {
        "id": "0NPQqgeQqM1z"
      },
      "source": [
        "* Podemos deixar tudo minúsculo"
      ]
    },
    {
      "cell_type": "code",
      "execution_count": null,
      "metadata": {
        "id": "2p7BLzn4qM1z",
        "outputId": "0d1a879d-d028-4847-e18b-c170f195711c"
      },
      "outputs": [
        {
          "data": {
            "text/plain": [
              "'big data + fia'"
            ]
          },
          "execution_count": 25,
          "metadata": {},
          "output_type": "execute_result"
        }
      ],
      "source": [
        "mensagem.lower()"
      ]
    },
    {
      "cell_type": "markdown",
      "metadata": {
        "id": "yb3-qxj8qM1z"
      },
      "source": [
        "* Podemos modificar a string para ter uma versão no estilo de título"
      ]
    },
    {
      "cell_type": "code",
      "execution_count": null,
      "metadata": {
        "id": "xv3IB0kaqM10",
        "outputId": "1546ff3e-8d7d-4e85-9d18-1ed48e493cbb"
      },
      "outputs": [
        {
          "data": {
            "text/plain": [
              "'Big Data + Fia'"
            ]
          },
          "execution_count": 26,
          "metadata": {},
          "output_type": "execute_result"
        }
      ],
      "source": [
        "mensagem.title()"
      ]
    },
    {
      "cell_type": "markdown",
      "metadata": {
        "id": "_dqh_jS3qM10"
      },
      "source": [
        "* Podemos verificar se uma string começa ou termina com um determinado texto. Isso é útil para encontrar arquivos com determinadas extensões, URLs, entre outros."
      ]
    },
    {
      "cell_type": "code",
      "execution_count": null,
      "metadata": {
        "id": "e8JUzZZ9qM10",
        "outputId": "6c0d1268-0c1a-4ce5-8aca-f43af08c990e"
      },
      "outputs": [
        {
          "data": {
            "text/plain": [
              "False"
            ]
          },
          "execution_count": 27,
          "metadata": {},
          "output_type": "execute_result"
        }
      ],
      "source": [
        "mensagem.startswith('b')"
      ]
    },
    {
      "cell_type": "code",
      "execution_count": null,
      "metadata": {
        "id": "d_MSXNDoqM11",
        "outputId": "5b5b2cae-74ab-4c93-efa9-c65af1cc14be"
      },
      "outputs": [
        {
          "data": {
            "text/plain": [
              "True"
            ]
          },
          "execution_count": 28,
          "metadata": {},
          "output_type": "execute_result"
        }
      ],
      "source": [
        "nomearquivo = 'spam.txt'\n",
        "nomearquivo.endswith('.txt')"
      ]
    },
    {
      "cell_type": "code",
      "execution_count": null,
      "metadata": {
        "id": "pjLgeIshqM11",
        "outputId": "29b5d0df-3812-4719-e6c4-f0f7a8dafa41"
      },
      "outputs": [
        {
          "data": {
            "text/plain": [
              "True"
            ]
          },
          "execution_count": 29,
          "metadata": {},
          "output_type": "execute_result"
        }
      ],
      "source": [
        "url = 'http://dinomagri.com'\n",
        "url.startswith('http:')"
      ]
    },
    {
      "cell_type": "markdown",
      "metadata": {
        "id": "mw7Qha7bqM11"
      },
      "source": [
        "* Outros métodos de strings podem ser encontradas em https://docs.python.org/3/library/stdtypes.html#string-methods\n",
        "\n",
        "## Exercício de strings\n",
        "\n",
        "1 - Crie um string \"Eu estou programando em Python\" na variável txt.\n",
        "\n",
        "* a) Imprima a primeira letra de txt utilizando colchetes (e.g. txt[NUM])\n",
        "* b) Imprima a letra g.\n",
        "* c) Imprima a palavra estou\n",
        "* d) Imprima as ultimas 4 letras\n",
        "* e) Imprima o texto a partir do index 9 e mostre qual o texto resultante"
      ]
    },
    {
      "cell_type": "code",
      "execution_count": null,
      "metadata": {
        "id": "sPHVDQQxqM11",
        "outputId": "a91faaf9-f14e-4552-c208-50a305c00c29"
      },
      "outputs": [
        {
          "name": "stdout",
          "output_type": "stream",
          "text": [
            "E\n",
            "g\n",
            "estou\n",
            "thon\n",
            "programando em Python\n",
            "EU ESTOU PROGRAMANDO EM PYTHON\n",
            "eu estou programando em python\n",
            "30\n",
            "12\n",
            "12\n"
          ]
        }
      ],
      "source": [
        "txt = \"Eu estou programando em Python\"\n",
        "print (txt[0])\n",
        "print (txt[12])\n",
        "print (txt[3:8])\n",
        "print (txt[-4:])\n",
        "print (txt[9:])\n",
        "print (txt.upper())\n",
        "print (txt.lower())\n",
        "print (len(txt))\n",
        "print (txt.index(\"g\"))\n",
        "print (txt.find(\"g\"))\n"
      ]
    },
    {
      "cell_type": "markdown",
      "metadata": {
        "collapsed": true,
        "id": "vNndM9eFqM11"
      },
      "source": [
        "2 - Utilize os seguintes métodos:\n",
        "* a) Upper, lower, len e title\n",
        "* b) Conte (count) quantas letras [a, o] existem\n",
        "* c) Retorne o index da letra g\n",
        "* d) Procure (find) o index inicial da palavra Python"
      ]
    }
  ],
  "metadata": {
    "kernelspec": {
      "display_name": "Python 3",
      "language": "python",
      "name": "python3"
    },
    "language_info": {
      "codemirror_mode": {
        "name": "ipython",
        "version": 3
      },
      "file_extension": ".py",
      "mimetype": "text/x-python",
      "name": "python",
      "nbconvert_exporter": "python",
      "pygments_lexer": "ipython3",
      "version": "3.5.2"
    },
    "colab": {
      "provenance": []
    }
  },
  "nbformat": 4,
  "nbformat_minor": 0
}