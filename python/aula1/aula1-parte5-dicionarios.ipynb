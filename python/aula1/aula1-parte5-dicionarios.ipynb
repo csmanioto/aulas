{
  "cells": [
    {
      "cell_type": "markdown",
      "metadata": {
        "id": "TudMkETpweBa"
      },
      "source": [
        "# Dicionários\n",
        "\n",
        "* Um coleção de elementos onde é possível utilizar um índice de qualquer tipo imutável.\n",
        "\n",
        "* Dicionários são encontrados em outras linguagens como \"memória associativa\" ou \"arrays associativos\".\n",
        "\n",
        "* Diferentemente da lista, que são indexadas por um range de números, dicionários são indexados por chaves (keys), que podem ser qualquer tipo imutável (strings e números podem ser chaves (keys))\n",
        "\n",
        "\n",
        "* Podemos pensar que um dicionário é um conjunto de chave : valor (key : value) não ordenado, com o requerimento que a **chave deve ser única**.\n",
        "\n",
        "\n",
        "    - Chave é o índice\n",
        "    - Valor é a informação correspondente a chave\n",
        "    - { } utilizado para iniciar um dicionário\n",
        "    - : separa os pares índice-valor por vírgula \n"
      ]
    },
    {
      "cell_type": "code",
      "execution_count": null,
      "metadata": {
        "collapsed": true,
        "id": "IPhkN1JmweBc"
      },
      "outputs": [],
      "source": [
        "alunos = {'jose': 35, 'bilbo' : 28}"
      ]
    },
    {
      "cell_type": "code",
      "execution_count": null,
      "metadata": {
        "id": "69tDogYcweBd",
        "outputId": "864509a5-88f5-4b2a-bf65-b70bbc7278f2"
      },
      "outputs": [
        {
          "name": "stdout",
          "output_type": "stream",
          "text": [
            "{'bilbo': 28, 'jose': 35}\n"
          ]
        }
      ],
      "source": [
        "print(alunos)"
      ]
    },
    {
      "cell_type": "code",
      "execution_count": null,
      "metadata": {
        "id": "jD46NpAdweBe",
        "outputId": "5f5ef981-1552-43b3-ba8e-5d56e5d987ba"
      },
      "outputs": [
        {
          "name": "stdout",
          "output_type": "stream",
          "text": [
            "28\n"
          ]
        }
      ],
      "source": [
        "print(alunos['bilbo'])"
      ]
    },
    {
      "cell_type": "code",
      "execution_count": null,
      "metadata": {
        "id": "9C-9o0rwweBe",
        "outputId": "e77cbd61-5772-4fd0-f751-016b551f2851"
      },
      "outputs": [
        {
          "name": "stdout",
          "output_type": "stream",
          "text": [
            "35\n"
          ]
        }
      ],
      "source": [
        "print(alunos['jose'])"
      ]
    },
    {
      "cell_type": "code",
      "execution_count": null,
      "metadata": {
        "collapsed": true,
        "id": "-9IOSYuSweBe"
      },
      "outputs": [],
      "source": [
        "# Adicionar um novo elemento no dicionário\n",
        "alunos['joao'] = 20"
      ]
    },
    {
      "cell_type": "code",
      "execution_count": null,
      "metadata": {
        "id": "rp0mF35wweBe",
        "outputId": "a3f71ab6-5d78-465b-df00-b591745c22f5"
      },
      "outputs": [
        {
          "name": "stdout",
          "output_type": "stream",
          "text": [
            "{'joao': 20, 'bilbo': 28, 'jose': 35}\n"
          ]
        }
      ],
      "source": [
        "print(alunos)"
      ]
    },
    {
      "cell_type": "code",
      "execution_count": null,
      "metadata": {
        "id": "afiJDbKlweBf",
        "outputId": "a8de1b8a-9006-4b5b-f95a-db6ba3810c45"
      },
      "outputs": [
        {
          "name": "stdout",
          "output_type": "stream",
          "text": [
            "{'joao': 20, 'jose': 35}\n"
          ]
        }
      ],
      "source": [
        "# Remover um elemento do dicionário\n",
        "del alunos['bilbo']\n",
        "print(alunos)"
      ]
    },
    {
      "cell_type": "markdown",
      "metadata": {
        "id": "k75Zpxi6weBf"
      },
      "source": [
        "## Os métodos disponíveis para Dicionários\n",
        "\n",
        "Da mesma forma que o tipo lista contém métodos disponíveis, o dicionário tem os seguintes métodos:\n",
        "\n",
        "Método | Descrição\n",
        "--- | ---\n",
        "```dic.keys()``` | Retorna uma lista com as chaves do dicionário.\n",
        "```dic.values()``` | Retorna uma lista com os valores do dicionário.\n",
        "```dic.items()``` | Retorna uma lista de tuplas com o conteúdo do dicionário, cada tupla contendo um par (chave, valor).\n",
        "```dic.update(d2)``` | Atualiza o dicionário com base em um segundo. dicionário (d2) fornecido como parâmetro. Elementos do dicionário original que também existem no segundo elemento são atualizados. Elementos que existem no segundo mas não existem no original serão adicionados a este.\n",
        "```dic.clear()``` | Remove todos os elementos do dicionário.\n",
        "```dic.copy()``` | Realiza uma cópia do dicionário\n"
      ]
    },
    {
      "cell_type": "markdown",
      "metadata": {
        "id": "jqZVAOTjweBf"
      },
      "source": [
        "* Recuperar os valores e chaves"
      ]
    },
    {
      "cell_type": "code",
      "execution_count": null,
      "metadata": {
        "id": "OBmxRfeKweBf",
        "outputId": "24e508a0-ed47-441b-ff05-d48c49bf99f7"
      },
      "outputs": [
        {
          "data": {
            "text/plain": [
              "{'joao': 20, 'jose': 35}"
            ]
          },
          "execution_count": 8,
          "metadata": {},
          "output_type": "execute_result"
        }
      ],
      "source": [
        "alunos"
      ]
    },
    {
      "cell_type": "code",
      "execution_count": null,
      "metadata": {
        "id": "h-I_LYJYweBg",
        "outputId": "4f2f38a5-b24d-47dc-ecfb-c1fc550d8409"
      },
      "outputs": [
        {
          "name": "stdout",
          "output_type": "stream",
          "text": [
            "dict_keys(['joao', 'jose'])\n"
          ]
        }
      ],
      "source": [
        "a = alunos.keys()\n",
        "print(a)"
      ]
    },
    {
      "cell_type": "code",
      "execution_count": null,
      "metadata": {
        "collapsed": true,
        "id": "WTNvzm80weBg"
      },
      "outputs": [],
      "source": [
        "v = alunos.values()"
      ]
    },
    {
      "cell_type": "code",
      "execution_count": null,
      "metadata": {
        "id": "KDP0Z0whweBg",
        "outputId": "069b965e-ae13-4473-b7c2-29d11fcd4614"
      },
      "outputs": [
        {
          "name": "stdout",
          "output_type": "stream",
          "text": [
            "dict_values([20, 35])\n"
          ]
        }
      ],
      "source": [
        "print(v)"
      ]
    },
    {
      "cell_type": "markdown",
      "metadata": {
        "id": "A4OrYJFnweBg"
      },
      "source": [
        "Para trabalhar como lista, precisamos explicitamente converter v para tipo lista"
      ]
    },
    {
      "cell_type": "code",
      "execution_count": null,
      "metadata": {
        "id": "ObC5S1W7weBg",
        "outputId": "e05cf2e9-bdc3-447b-ff25-8e304e6a046c"
      },
      "outputs": [
        {
          "name": "stdout",
          "output_type": "stream",
          "text": [
            "<class 'list'>\n",
            "[20, 35]\n"
          ]
        }
      ],
      "source": [
        "v = list(v)\n",
        "print(type(v))\n",
        "print(v)"
      ]
    },
    {
      "cell_type": "markdown",
      "metadata": {
        "id": "jtd5_vZzweBg"
      },
      "source": [
        "* Recuperar os itens ```(chave : valor)```"
      ]
    },
    {
      "cell_type": "code",
      "execution_count": null,
      "metadata": {
        "id": "pNvd_F8fweBh",
        "outputId": "822ff62e-eed5-478a-93f0-29a273350561"
      },
      "outputs": [
        {
          "data": {
            "text/plain": [
              "dict_items([('joao', 20), ('jose', 35)])"
            ]
          },
          "execution_count": 13,
          "metadata": {},
          "output_type": "execute_result"
        }
      ],
      "source": [
        "alunos.items()"
      ]
    },
    {
      "cell_type": "code",
      "execution_count": null,
      "metadata": {
        "id": "hlEJIg5XweBh",
        "outputId": "d673e2c2-335b-4c80-949a-72d2f6578612"
      },
      "outputs": [
        {
          "data": {
            "text/plain": [
              "dict_items"
            ]
          },
          "execution_count": 14,
          "metadata": {},
          "output_type": "execute_result"
        }
      ],
      "source": [
        "da = alunos.items()\n",
        "type(da)"
      ]
    },
    {
      "cell_type": "code",
      "execution_count": null,
      "metadata": {
        "collapsed": true,
        "id": "skcIwX1EweBh"
      },
      "outputs": [],
      "source": [
        "da = list(da)"
      ]
    },
    {
      "cell_type": "code",
      "execution_count": null,
      "metadata": {
        "id": "rqY30CT9weBh",
        "outputId": "1c56b7c5-58fb-413a-f449-80b50256f658"
      },
      "outputs": [
        {
          "data": {
            "text/plain": [
              "('joao', 20)"
            ]
          },
          "execution_count": 16,
          "metadata": {},
          "output_type": "execute_result"
        }
      ],
      "source": [
        "da[0]"
      ]
    },
    {
      "cell_type": "code",
      "execution_count": null,
      "metadata": {
        "id": "Ly6C1oHzweBh",
        "outputId": "9313eb1b-3a1c-4ad0-c81f-71817657bd4c"
      },
      "outputs": [
        {
          "data": {
            "text/plain": [
              "tuple"
            ]
          },
          "execution_count": 17,
          "metadata": {},
          "output_type": "execute_result"
        }
      ],
      "source": [
        "type(da[0])"
      ]
    },
    {
      "cell_type": "markdown",
      "metadata": {
        "id": "WizGJf5QweBi"
      },
      "source": [
        "* Adicionar elementos a partir de outro dicionário"
      ]
    },
    {
      "cell_type": "code",
      "execution_count": null,
      "metadata": {
        "collapsed": true,
        "id": "uUxBxwK7weBi"
      },
      "outputs": [],
      "source": [
        "n_alunos = {'maria': 30, 'james':60}"
      ]
    },
    {
      "cell_type": "code",
      "execution_count": null,
      "metadata": {
        "collapsed": true,
        "id": "cDQfq1aCweBi"
      },
      "outputs": [],
      "source": [
        "alunos.update(n_alunos)"
      ]
    },
    {
      "cell_type": "code",
      "execution_count": null,
      "metadata": {
        "id": "sga_R805weBi",
        "outputId": "1293964b-738c-470b-db1c-0eb1bc1d0dd7"
      },
      "outputs": [
        {
          "name": "stdout",
          "output_type": "stream",
          "text": [
            "{'maria': 30, 'joao': 20, 'james': 60, 'jose': 35}\n"
          ]
        }
      ],
      "source": [
        "print(alunos)"
      ]
    },
    {
      "cell_type": "markdown",
      "metadata": {
        "id": "-KeeZiyUweBi"
      },
      "source": [
        "## Exercícios de 5 minutos\n",
        "\n",
        "1 - Crie um dicionário chamado ```palavras```. Esse dicionário irá conter algumas palavras que aparecem repetidamente em um determinado texto. As palavras estão listas abaixo, crie um dicionário sendo a chave o nome da palavra e o valor a quantidade de vezes que a palavra apareceu.\n",
        "    * big = 182 vezes\n",
        "    * data = 342 vezes\n",
        "    * python = 423 vezes"
      ]
    },
    {
      "cell_type": "code",
      "execution_count": null,
      "metadata": {
        "collapsed": true,
        "id": "VehQq5U-weBi"
      },
      "outputs": [],
      "source": [
        "palavras = {'SRE':182, 'Engineering':342, 'python':423}"
      ]
    },
    {
      "cell_type": "code",
      "execution_count": null,
      "metadata": {
        "id": "XwQ00-WVweBi",
        "outputId": "db13dd49-217d-40dd-f8a7-166217de3bcd"
      },
      "outputs": [
        {
          "name": "stdout",
          "output_type": "stream",
          "text": [
            "{'data': 342, 'python': 423, 'big': 182}\n"
          ]
        }
      ],
      "source": [
        "print (palavras)"
      ]
    },
    {
      "cell_type": "markdown",
      "metadata": {
        "id": "jKD6zO6HweBj"
      },
      "source": [
        "2 - Utilizando o dicionário palavras que foi criado no exercício anterior, crie um programa para:\n",
        "    * a) A palavra python apareceu 423.\n",
        "    * b) As palavras big, data e python apareceram 947 vezes.\n",
        "    \n",
        "É necessário utilizar placeholders. Ou seja, utilize o dicionário palavras para recuperar as palavras python, big e data bem como os valores.\n",
        "\n",
        "Lembre-se do acesso via índice.\n"
      ]
    },
    {
      "cell_type": "code",
      "execution_count": null,
      "metadata": {
        "id": "YCFN5ZNmweBj",
        "outputId": "dec57796-36dc-4d6c-bba4-bcc238e65f5e"
      },
      "outputs": [
        {
          "name": "stdout",
          "output_type": "stream",
          "text": [
            "A palavra python apareceu 423 vezes\n"
          ]
        }
      ],
      "source": [
        "print ('A palavra python apareceu {} vezes'.format(palavras['python']))"
      ]
    },
    {
      "cell_type": "code",
      "execution_count": null,
      "metadata": {
        "id": "zbR15YQZweBj",
        "outputId": "295ed5af-4d76-4f81-9657-9d01a48303ba"
      },
      "outputs": [
        {
          "name": "stdout",
          "output_type": "stream",
          "text": [
            "A palavra big, data e python apareceram 947 vezes\n"
          ]
        }
      ],
      "source": [
        "print ('A palavra big, data e python apareceram {} vezes'.format(palavras ['SRE'] + palavras ['Engineering'] + palavras ['python']))"
      ]
    },
    {
      "cell_type": "code",
      "execution_count": null,
      "metadata": {
        "id": "J6T95aksweBj",
        "outputId": "1f37f5ac-8bbf-40be-8bc2-edf8935abb39"
      },
      "outputs": [
        {
          "name": "stdout",
          "output_type": "stream",
          "text": [
            "A palavra big, data e python apareceram 947 vezes\n"
          ]
        }
      ],
      "source": [
        "print ('A palavra big, data e python apareceram {} vezes'.format(sum(palavras.values())))"
      ]
    }
  ],
  "metadata": {
    "kernelspec": {
      "display_name": "Python 3",
      "language": "python",
      "name": "python3"
    },
    "language_info": {
      "codemirror_mode": {
        "name": "ipython",
        "version": 3
      },
      "file_extension": ".py",
      "mimetype": "text/x-python",
      "name": "python",
      "nbconvert_exporter": "python",
      "pygments_lexer": "ipython3",
      "version": "3.5.2"
    },
    "colab": {
      "provenance": []
    }
  },
  "nbformat": 4,
  "nbformat_minor": 0
}