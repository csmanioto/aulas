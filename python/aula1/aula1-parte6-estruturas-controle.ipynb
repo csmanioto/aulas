{
  "cells": [
    {
      "cell_type": "markdown",
      "metadata": {
        "id": "brAdoiGdxyqm"
      },
      "source": [
        "# Estruturas de Controle\n",
        "\n",
        "É importante controlar o fluxo do nosso código!\n",
        "\n",
        "## IF, ELIF, ELSE\n",
        "\n",
        "* Para controlar o fluxo do nosso código Python, podemos avaliar uma determinada expressão.\n",
        "    * Um teste (expressão que avalia para verdadeiro (True) ou falso (False)\n",
        "    * Um bloco de código que será executado se o teste for verdadeiro (True)\n",
        "    * Um bloco de código que será executado se o teste for falso (False)\n",
        "\n",
        "<img src=\"https://github.com/csmanioto/aulas/blob/main/python/aula1/if-elif-else.png?raw=1\" alt=\"if-elif-else\" style=\"width: 200px;\"/>"
      ]
    },
    {
      "cell_type": "code",
      "execution_count": 1,
      "metadata": {
        "id": "AMFi9FxHxyqo",
        "outputId": "0c17ffea-72c3-46fc-9c9e-e2e3f02c4b1b",
        "colab": {
          "base_uri": "https://localhost:8080/"
        }
      },
      "outputs": [
        {
          "name": "stdout",
          "output_type": "stream",
          "text": [
            "Digite um número: 20\n"
          ]
        }
      ],
      "source": [
        "n = int(input('Digite um número: '))"
      ]
    },
    {
      "cell_type": "code",
      "execution_count": 2,
      "metadata": {
        "id": "cPY7ghdCxyqp",
        "outputId": "9b782885-11bd-4960-d821-db6034030997",
        "colab": {
          "base_uri": "https://localhost:8080/"
        }
      },
      "outputs": [
        {
          "output_type": "stream",
          "name": "stdout",
          "text": [
            "Par\n"
          ]
        }
      ],
      "source": [
        "if n % 2 == 0:\n",
        "    print('Par')\n",
        "else:\n",
        "    print('Impar')\n"
      ]
    },
    {
      "cell_type": "markdown",
      "metadata": {
        "id": "wDwGkq5wxyqq"
      },
      "source": [
        "Também podemos ter condições dentro de condições, por exemplo:"
      ]
    },
    {
      "cell_type": "code",
      "execution_count": 3,
      "metadata": {
        "id": "qgsJFyh-xyqq",
        "outputId": "3dfcb31a-770d-4042-a31e-5e3710d85361",
        "colab": {
          "base_uri": "https://localhost:8080/"
        }
      },
      "outputs": [
        {
          "output_type": "stream",
          "name": "stdout",
          "text": [
            "Não corresponde a nenhum nome\n"
          ]
        }
      ],
      "source": [
        "nome = 'fia2'\n",
        "\n",
        "if nome == 'fia':\n",
        "    idade = 35\n",
        "    print(idade)\n",
        "elif nome == 'usp':\n",
        "    idade = 82\n",
        "    print(idade)\n",
        "else:\n",
        "    print(\"Não corresponde a nenhum nome\")\n",
        "    "
      ]
    },
    {
      "cell_type": "markdown",
      "metadata": {
        "id": "L-jPgvftxyqq"
      },
      "source": [
        "* Também podemos utilizar comparações boleanas"
      ]
    },
    {
      "cell_type": "code",
      "execution_count": 4,
      "metadata": {
        "collapsed": true,
        "id": "y6HgABnJxyqr"
      },
      "outputs": [],
      "source": [
        "x = 10\n",
        "y = 11\n",
        "z = 12"
      ]
    },
    {
      "cell_type": "code",
      "execution_count": 5,
      "metadata": {
        "id": "JaZX0DYAxyqr",
        "outputId": "51b07153-3dbf-4280-9f51-e4808ad94c05",
        "colab": {
          "base_uri": "https://localhost:8080/"
        }
      },
      "outputs": [
        {
          "output_type": "stream",
          "name": "stdout",
          "text": [
            "x é menor\n"
          ]
        }
      ],
      "source": [
        "if x < y and x < z:\n",
        "    print(\"x é menor\")\n",
        "elif y < z:\n",
        "    print(\"y é menor\")\n",
        "else:\n",
        "    print(\"z é menor\")"
      ]
    },
    {
      "cell_type": "markdown",
      "metadata": {
        "id": "zgybbeMoxyqr"
      },
      "source": [
        "** Não existe estrutura do tipo switch/case**"
      ]
    },
    {
      "cell_type": "markdown",
      "metadata": {
        "id": "2s2v9KnHxyqr"
      },
      "source": [
        "## WHILE\n",
        "\n",
        "É utilizado para execução repetitiva enquanto a expressão for verdadeira.\n",
        "\n",
        "* Estamos começando a adicionar complexidade em nosso código.\n",
        "    * Inicia com um teste\n",
        "    * Se o teste resultar em verdadeiro (True), então o código do laço iterativo será executado uma única vez e então o código será redirecionado para que o teste seja refeito.\n",
        "    * Esse processo é repetido até que o teste resulte em falso (False), saindo do laço iterativo.\n",
        "    \n",
        "\n",
        "<img src=\"https://github.com/csmanioto/aulas/blob/main/python/aula1/while.png?raw=1\" alt=\"if-elif-else\" style=\"width: 200px;\"/>"
      ]
    },
    {
      "cell_type": "code",
      "execution_count": 6,
      "metadata": {
        "id": "a08hvaKmxyqs",
        "outputId": "55dfdfdc-03cd-403b-d138-9626f6d16c2d",
        "colab": {
          "base_uri": "https://localhost:8080/"
        }
      },
      "outputs": [
        {
          "output_type": "stream",
          "name": "stdout",
          "text": [
            "3\n",
            "2\n",
            "1\n"
          ]
        }
      ],
      "source": [
        "lista = [1, 2, 3]\n",
        "n = len(lista) - 1\n",
        "\n",
        "while (n != -1):\n",
        "    print(lista[n])\n",
        "    n = n - 1"
      ]
    },
    {
      "cell_type": "markdown",
      "metadata": {
        "id": "cMSxu8G9xyqs"
      },
      "source": [
        "* O código acima escrito de outra forma"
      ]
    },
    {
      "cell_type": "code",
      "execution_count": 7,
      "metadata": {
        "id": "UA7YWL2ixyqs",
        "outputId": "f963d627-efb1-4df6-fd40-c8279eedfb9d",
        "colab": {
          "base_uri": "https://localhost:8080/"
        }
      },
      "outputs": [
        {
          "output_type": "stream",
          "name": "stdout",
          "text": [
            "3\n",
            "2\n",
            "1\n"
          ]
        }
      ],
      "source": [
        "lista = [1, 2, 3]\n",
        "n = len(lista) - 1\n",
        "while True:\n",
        "    print(lista[n])\n",
        "    n = n - 1\n",
        "    if n < 0:\n",
        "        break\n"
      ]
    },
    {
      "cell_type": "markdown",
      "metadata": {
        "id": "x_PHSF7_xyqs"
      },
      "source": [
        "* Note que para pararmos a execução do laço, temos que explicitamente colocar o comando ```break``` para interromper a execução do laço. Isso não é feito no exemplo anterior, onde o \"break\" acontece quando o expressão é falsa."
      ]
    },
    {
      "cell_type": "markdown",
      "metadata": {
        "id": "li_EJoo4xyqs"
      },
      "source": [
        "## FOR\n",
        "\n",
        "Para percorrer um conjunto de valores podemos utilizar o laço iterativo FOR."
      ]
    },
    {
      "cell_type": "code",
      "execution_count": 8,
      "metadata": {
        "collapsed": true,
        "id": "AEfd3n5Fxyqs"
      },
      "outputs": [],
      "source": [
        "produtos = ['ipad', 'celular', 'notebook', 'tv']"
      ]
    },
    {
      "cell_type": "code",
      "execution_count": 9,
      "metadata": {
        "id": "CcvSFWexxyqt",
        "outputId": "3e56a3b6-d9de-47f3-df53-d8be9bdb44df",
        "colab": {
          "base_uri": "https://localhost:8080/"
        }
      },
      "outputs": [
        {
          "output_type": "stream",
          "name": "stdout",
          "text": [
            "ipad\n",
            "celular\n",
            "notebook\n",
            "tv\n"
          ]
        }
      ],
      "source": [
        "for item in produtos:\n",
        "    print(item)"
      ]
    },
    {
      "cell_type": "markdown",
      "metadata": {
        "id": "MB08PjG1xyqt"
      },
      "source": [
        "* Podemos utilizar a função ```enumerate()``` para recuperar a posição do index e o valor correspondente"
      ]
    },
    {
      "cell_type": "code",
      "execution_count": 10,
      "metadata": {
        "id": "Z3hUV-92xyqt",
        "outputId": "58ec3734-bdac-4111-be95-88be050306e1",
        "colab": {
          "base_uri": "https://localhost:8080/"
        }
      },
      "outputs": [
        {
          "output_type": "stream",
          "name": "stdout",
          "text": [
            "0 ipad\n",
            "1 celular\n",
            "2 notebook\n",
            "3 tv\n"
          ]
        }
      ],
      "source": [
        "for i, item in enumerate(produtos):\n",
        "    print(i, item)"
      ]
    },
    {
      "cell_type": "markdown",
      "metadata": {
        "id": "6CqPX_HJxyqt"
      },
      "source": [
        "### A função ```range```\n",
        "\n",
        "A função ```range(inicio, fim, passo)``` produz um objeto que tem uma sequencia de inteiros. O inicio se não for passado é 0 e é inclusivo, e o fim é a parada que é exclusivo.\n",
        "\n",
        "Quando o passo for dado, ele incrementa ou decrementa."
      ]
    },
    {
      "cell_type": "code",
      "execution_count": 11,
      "metadata": {
        "id": "UFNvHzFExyqt",
        "outputId": "d19cf2bd-187e-43c1-96b7-eb7256551a7b",
        "colab": {
          "base_uri": "https://localhost:8080/"
        }
      },
      "outputs": [
        {
          "output_type": "execute_result",
          "data": {
            "text/plain": [
              "[0, 1, 2, 3, 4]"
            ]
          },
          "metadata": {},
          "execution_count": 11
        }
      ],
      "source": [
        "list(range(5))"
      ]
    },
    {
      "cell_type": "code",
      "execution_count": 12,
      "metadata": {
        "collapsed": true,
        "id": "LI8urLd_xyqt"
      },
      "outputs": [],
      "source": [
        "r1 = list(range(5))"
      ]
    },
    {
      "cell_type": "code",
      "execution_count": 13,
      "metadata": {
        "id": "Y731cZ0oxyqu",
        "outputId": "cb95a6d5-cb7b-4a59-eb0a-bab0b79668e5",
        "colab": {
          "base_uri": "https://localhost:8080/"
        }
      },
      "outputs": [
        {
          "output_type": "stream",
          "name": "stdout",
          "text": [
            "0\n",
            "1\n",
            "2\n",
            "3\n",
            "4\n"
          ]
        }
      ],
      "source": [
        "for i in r1:\n",
        "    print(i)"
      ]
    },
    {
      "cell_type": "code",
      "execution_count": 14,
      "metadata": {
        "id": "WDbdMpZBxyqu",
        "outputId": "f28d9e93-3a8e-465d-a10b-4266b03d0fb5",
        "colab": {
          "base_uri": "https://localhost:8080/"
        }
      },
      "outputs": [
        {
          "output_type": "execute_result",
          "data": {
            "text/plain": [
              "[0, 2, 4, 6, 8]"
            ]
          },
          "metadata": {},
          "execution_count": 14
        }
      ],
      "source": [
        "list(range(0, 10, 2))"
      ]
    },
    {
      "cell_type": "code",
      "execution_count": 15,
      "metadata": {
        "id": "pY63U6HYxyqu",
        "outputId": "ca09a30d-5a49-4e75-a895-d367191fafa2",
        "colab": {
          "base_uri": "https://localhost:8080/"
        }
      },
      "outputs": [
        {
          "output_type": "stream",
          "name": "stdout",
          "text": [
            "0\n",
            "2\n",
            "4\n",
            "6\n",
            "8\n"
          ]
        }
      ],
      "source": [
        "r2 = range(0, 10, 2)\n",
        "for i in r2:\n",
        "    print(i)"
      ]
    },
    {
      "cell_type": "markdown",
      "metadata": {
        "id": "ltTzjHbrxyqu"
      },
      "source": [
        "* Para iterar em uma sequencia reversa, primeiro é necessário especificar a direção e então chamar a função ```reversed()```"
      ]
    },
    {
      "cell_type": "code",
      "execution_count": 16,
      "metadata": {
        "id": "FOfPM61fxyqu",
        "outputId": "241f6157-b061-418e-9c97-9e4718615856",
        "colab": {
          "base_uri": "https://localhost:8080/"
        }
      },
      "outputs": [
        {
          "output_type": "stream",
          "name": "stdout",
          "text": [
            "9\n",
            "7\n",
            "5\n",
            "3\n",
            "1\n"
          ]
        }
      ],
      "source": [
        "for i in reversed(range(1, 10, 2)):\n",
        "    print(i)"
      ]
    },
    {
      "cell_type": "markdown",
      "metadata": {
        "id": "S4CHI8jcxyqv"
      },
      "source": [
        "* Também podemos utilizar a função range() para iterar em uma sequencia reversa"
      ]
    },
    {
      "cell_type": "code",
      "execution_count": 17,
      "metadata": {
        "id": "VusZh3EBxyqv",
        "outputId": "77485bf4-c18f-42ef-d583-df2317a902b2",
        "colab": {
          "base_uri": "https://localhost:8080/"
        }
      },
      "outputs": [
        {
          "output_type": "stream",
          "name": "stdout",
          "text": [
            "5\n",
            "4\n",
            "3\n",
            "2\n",
            "1\n"
          ]
        }
      ],
      "source": [
        "num = 5\n",
        "for num in range(num, 0, -1):\n",
        "    print(num)"
      ]
    },
    {
      "cell_type": "markdown",
      "metadata": {
        "id": "FIwSFHmQxyqv"
      },
      "source": [
        "* Um exemplo um pouco mais completo"
      ]
    },
    {
      "cell_type": "code",
      "execution_count": 18,
      "metadata": {
        "collapsed": true,
        "id": "q1auuUG3xyqv"
      },
      "outputs": [],
      "source": [
        "l1 = list(\"abcdef\")"
      ]
    },
    {
      "cell_type": "code",
      "execution_count": 19,
      "metadata": {
        "id": "-XDkoWRmxyqv",
        "outputId": "b0e51133-a819-4e8e-e5c6-7e6cf9f5359e",
        "colab": {
          "base_uri": "https://localhost:8080/"
        }
      },
      "outputs": [
        {
          "output_type": "execute_result",
          "data": {
            "text/plain": [
              "['a', 'b', 'c', 'd', 'e', 'f']"
            ]
          },
          "metadata": {},
          "execution_count": 19
        }
      ],
      "source": [
        "l1"
      ]
    },
    {
      "cell_type": "code",
      "execution_count": 20,
      "metadata": {
        "id": "tLS-__GIxyqw",
        "outputId": "de056acb-7fc5-433e-8661-8024d63899bc",
        "colab": {
          "base_uri": "https://localhost:8080/"
        }
      },
      "outputs": [
        {
          "output_type": "stream",
          "name": "stdout",
          "text": [
            "a\n",
            "b\n",
            "c\n",
            "d\n",
            "e\n",
            "f\n"
          ]
        }
      ],
      "source": [
        "for item in l1:\n",
        "    print(item)"
      ]
    },
    {
      "cell_type": "code",
      "execution_count": 21,
      "metadata": {
        "id": "m9Wg16XVxyqx",
        "outputId": "41a6db6e-1ba9-4ca0-f026-e4c7e85992e9",
        "colab": {
          "base_uri": "https://localhost:8080/"
        }
      },
      "outputs": [
        {
          "output_type": "stream",
          "name": "stdout",
          "text": [
            "a\n",
            "b\n",
            "c\n",
            "d\n",
            "e\n",
            "f\n"
          ]
        }
      ],
      "source": [
        "for i in range(0, len(l1)):\n",
        "    print(l1[i])"
      ]
    },
    {
      "cell_type": "markdown",
      "metadata": {
        "id": "Jvy3dYwtxyqx"
      },
      "source": [
        "* Para iterar em dicionários, podemos utilizar fazer da seguinte forma:"
      ]
    },
    {
      "cell_type": "code",
      "execution_count": 22,
      "metadata": {
        "collapsed": true,
        "id": "spMIktVMxyqy"
      },
      "outputs": [],
      "source": [
        "pessoas = dict([('jose',35), ('bilbo',28), ('joão',20)])"
      ]
    },
    {
      "cell_type": "code",
      "execution_count": 23,
      "metadata": {
        "id": "7_ZkSQkyxyqy",
        "outputId": "c791a251-1bb4-40ce-b396-2ed6a19b52d6",
        "colab": {
          "base_uri": "https://localhost:8080/"
        }
      },
      "outputs": [
        {
          "output_type": "stream",
          "name": "stdout",
          "text": [
            "jose 35\n",
            "bilbo 28\n",
            "joão 20\n"
          ]
        }
      ],
      "source": [
        "for c, v in pessoas.items():\n",
        "    print(c, v)"
      ]
    },
    {
      "cell_type": "markdown",
      "metadata": {
        "id": "6nHm8eXbxyqy"
      },
      "source": [
        "### Pontos de atenção"
      ]
    },
    {
      "cell_type": "markdown",
      "metadata": {
        "id": "fJZfLGNIxyqy"
      },
      "source": [
        "* **break**: sai do loop mais próximo que a envolve\n",
        "* **continue**: pula o início do loop mais próximo que a envolve\n",
        "* **pass**: não faz absolutamente nada; trata-se de um lugar reservado de instrução, vazio.\n",
        "\n",
        "\n",
        "**<span style=\"color:red;\">No código abaixo quando executado o que irá imprimir????</span>**"
      ]
    },
    {
      "cell_type": "code",
      "execution_count": 24,
      "metadata": {
        "id": "K7VPNEh-xyqy",
        "outputId": "92c141f5-270b-4f50-fb4a-b327072054cf",
        "colab": {
          "base_uri": "https://localhost:8080/"
        }
      },
      "outputs": [
        {
          "output_type": "stream",
          "name": "stdout",
          "text": [
            "negativo: -3\n"
          ]
        }
      ],
      "source": [
        "numeros = [4, 5, 6, 7, 8, -3, 9, -4]\n",
        "for num in numeros:\n",
        "    if num < 0:\n",
        "        print(\"negativo: {}\".format(num))\n",
        "        break"
      ]
    },
    {
      "cell_type": "markdown",
      "metadata": {
        "id": "3dvZZTqOxyqz"
      },
      "source": [
        "* Tanto o if quanto o while utilizam condições lógicas para controle, avaliando-as de maneira booleana.\n",
        "\n",
        "* Em Python, podemos denotar falso:\n",
        "    * Pelo booleano False,\n",
        "    * Pelo valor 0 (zero)\n",
        "    * Pela lista, dicionário, ou strings vazios, de tamanho zero\n",
        "    * Pelo valor especial None, que significa nulo\n",
        "    \n",
        "**<span style=\"color:blue;\">Qualquer outro valor é considerado verdadeiro</span>**"
      ]
    },
    {
      "cell_type": "markdown",
      "metadata": {
        "id": "bfOHcfdFxyqz"
      },
      "source": [
        "## Exercícios"
      ]
    },
    {
      "cell_type": "markdown",
      "metadata": {
        "id": "0tJJbfVLxyqz"
      },
      "source": [
        "#### 1 - Verifique se a lista números tem algum valor negativo.\n",
        "\n",
        "    ```numeros = [4, 5, 6, 7, 8, -3, 9, -4]```\n",
        "\n",
        "Utilize o for para iterar em cada item da lista, e verifique se o item é menor que do 0, se for menor imprima o item (utilizando if/else)."
      ]
    },
    {
      "cell_type": "code",
      "execution_count": 24,
      "metadata": {
        "collapsed": true,
        "id": "LkpygTI8xyqz"
      },
      "outputs": [],
      "source": []
    },
    {
      "cell_type": "markdown",
      "metadata": {
        "id": "YynQWc2Sxyq0"
      },
      "source": [
        "#### 2 - Crie um laço que imprima os números pares do 0 ao 100. Primeiro utilize a função ```range()``` e depois o operador %."
      ]
    },
    {
      "cell_type": "code",
      "execution_count": 24,
      "metadata": {
        "id": "pWIlNr6Mxyq0"
      },
      "outputs": [],
      "source": []
    },
    {
      "cell_type": "markdown",
      "metadata": {
        "id": "0M0AUXQGxyq0"
      },
      "source": [
        "#### 3 - Crie uma lista com 5 aparelhos diferentes:\n",
        "\n",
        "    aparelhos = ['iphone', 'pc', 'notebook', 'monitor', 'impressora']\n",
        "\n",
        "Agora crie um laço que imprima cada valor da lista (com os números):\n",
        "```\n",
        "1 iphone\n",
        "2 pc\n",
        "3 notebook\n",
        "4 monitor\n",
        "5 impressora\n",
        "```"
      ]
    }
  ],
  "metadata": {
    "kernelspec": {
      "display_name": "Python 3",
      "language": "python",
      "name": "python3"
    },
    "language_info": {
      "codemirror_mode": {
        "name": "ipython",
        "version": 3
      },
      "file_extension": ".py",
      "mimetype": "text/x-python",
      "name": "python",
      "nbconvert_exporter": "python",
      "pygments_lexer": "ipython3",
      "version": "3.5.2"
    },
    "colab": {
      "provenance": []
    }
  },
  "nbformat": 4,
  "nbformat_minor": 0
}