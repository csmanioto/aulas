{
  "cells": [
    {
      "cell_type": "markdown",
      "metadata": {
        "id": "view-in-github",
        "colab_type": "text"
      },
      "source": [
        "<a href=\"https://colab.research.google.com/github/csmanioto/mba_bigdata_fia/blob/main/python/aula1/aula1-parte1-jupyter.ipynb\" target=\"_parent\"><img src=\"https://colab.research.google.com/assets/colab-badge.svg\" alt=\"Open In Colab\"/></a>"
      ]
    },
    {
      "cell_type": "markdown",
      "metadata": {
        "id": "09nmo-OPoW5W"
      },
      "source": [
        "# 10 minutos de Introdução com Jupyter"
      ]
    },
    {
      "cell_type": "markdown",
      "metadata": {
        "id": "d2Bk3Mh2oW5Y"
      },
      "source": [
        "A area abaixo marcada com um prompt de entrada ```In []``` é a área de entrada em que iremos digitar o nosso código Python.\n",
        "\n",
        "Para executar pressione as teclas ```Shift+Enter``` ou clique no ícone de rodar (<button class='fa fa-play icon-play btn btn-xs btn-default'></button>).\n",
        "\n"
      ]
    },
    {
      "cell_type": "code",
      "execution_count": null,
      "metadata": {
        "scrolled": true,
        "id": "AJnnmoyaoW5a",
        "outputId": "900901b6-79ac-4f01-a4c3-7c003a751ec1"
      },
      "outputs": [
        {
          "name": "stdout",
          "output_type": "stream",
          "text": [
            "Dino\n"
          ]
        }
      ],
      "source": [
        "print(\"Reliability Engineering\")"
      ]
    },
    {
      "cell_type": "code",
      "execution_count": null,
      "metadata": {
        "id": "obc6gWT6oW5b",
        "outputId": "567dd5ae-22f7-498f-b565-255d084710ee"
      },
      "outputs": [
        {
          "data": {
            "text/plain": [
              "20"
            ]
          },
          "execution_count": 2,
          "metadata": {},
          "output_type": "execute_result"
        }
      ],
      "source": [
        "10+10"
      ]
    },
    {
      "cell_type": "code",
      "execution_count": null,
      "metadata": {
        "id": "y_TzygUzoW5b",
        "outputId": "f3e86ef6-a9f9-4ee0-b421-d08d1e2e6029"
      },
      "outputs": [
        {
          "name": "stdout",
          "output_type": "stream",
          "text": [
            "10\n"
          ]
        }
      ],
      "source": [
        "print(10)"
      ]
    },
    {
      "cell_type": "markdown",
      "metadata": {
        "id": "TxkCW2C6oW5b"
      },
      "source": [
        "Para adicionar novas celulas utilize o botão com o mais (<button class='fa fa-plus icon-plus btn btn-xs btn-default'></button>), ou apertando ```Alt+Enter```."
      ]
    },
    {
      "cell_type": "markdown",
      "metadata": {
        "id": "yq-pFrFgoW5b"
      },
      "source": [
        "## Células Markdown podem conter texto formatado e código.\n",
        "\n",
        "É possível deixar em *itálico*, **negrito**.\n",
        "\n",
        "Também é possível construir tópicos:\n",
        "\n",
        "* Tópico 1\n",
        "* Tópico 2\n",
        "\n",
        "e adicionar código para apenas ilustrar e não executar. Um exemplo de código Python:\n",
        "\n",
        "    def teste(x):\n",
        "        return x**2\n",
        "\n",
        "ou também colocar código de outras linguagens:\n",
        "\n",
        "    if (i=0; i<n; i++) {\n",
        "      printf(\"hello %d\\n\", i);\n",
        "      x += 4;\n",
        "    }"
      ]
    },
    {
      "cell_type": "markdown",
      "metadata": {
        "id": "3zegfbfaoW5c"
      },
      "source": [
        "Também é possível criar expressões matemáticas em linha: \n",
        "$e^{i\\pi} + 1 = 0$  e centralizada:\n",
        "\n",
        "$$e^x=\\sum_{i=0}^\\infty \\frac{1}{i!}x^i$$"
      ]
    },
    {
      "cell_type": "markdown",
      "metadata": {
        "id": "4hsDYb14oW5c"
      },
      "source": [
        "## Para visualizar imagens vamos utilizar o Python"
      ]
    },
    {
      "cell_type": "code",
      "execution_count": null,
      "metadata": {
        "id": "eARdpdBvoW5c",
        "outputId": "a1eaf12e-b495-4f7d-ce80-9398f77ac374"
      },
      "outputs": [
        {
          "data": {
            "text/html": [
              "<img src=\"http://python.org/images/python-logo.gif\"/>"
            ],
            "text/plain": [
              "<IPython.core.display.Image object>"
            ]
          },
          "execution_count": 4,
          "metadata": {},
          "output_type": "execute_result"
        }
      ],
      "source": [
        "from IPython.display import Image\n",
        "Image(url='http://python.org/images/python-logo.gif')"
      ]
    },
    {
      "cell_type": "markdown",
      "metadata": {
        "id": "EjQNxx7loW5c"
      },
      "source": [
        "## Para visualizar código HTML"
      ]
    },
    {
      "cell_type": "markdown",
      "metadata": {
        "id": "CCOUWcx-oW5c"
      },
      "source": [
        "Esse código:\n",
        "\n",
        "```<button class='fa fa-play icon-play btn btn-xs btn-default'></button>```\n",
        "\n",
        "sem as aspas, imprime esse botão <button class='fa fa-play icon-play btn btn-xs btn-default'></button>.\n",
        "\n",
        "\n",
        "Esse código:\n",
        "\n",
        "```<span style=\"color:red;\">Texto Colorido</span>```\n",
        "\n",
        "sem as aspas, imprime o texto na cor vermelha: <span style=\"color:red;\">Texto Colorido</span>."
      ]
    },
    {
      "cell_type": "markdown",
      "metadata": {
        "id": "LSGWUddBoW5d"
      },
      "source": [
        "## Referências\n",
        "\n",
        "* [A brief tour of the IPython notebook](http://nbviewer.jupyter.org/github/nborwankar/LearnDataScience/blob/master/notebooks/Z0.%20A%20quick%20tour%20of%20the%20IPython%20notebook.ipynb)\n",
        "* [Markdown Cells](http://jupyter-notebook.readthedocs.io/en/latest/examples/Notebook/Working%20With%20Markdown%20Cells.html)\n",
        "* [Markdown](http://daringfireball.net/projects/markdown/)\n",
        "* [Building Interactive Dashboards with Jupyter](https://blog.dominodatalab.com/interactive-dashboards-in-jupyter/)"
      ]
    }
  ],
  "metadata": {
    "kernelspec": {
      "display_name": "Python 3",
      "language": "python",
      "name": "python3"
    },
    "language_info": {
      "codemirror_mode": {
        "name": "ipython",
        "version": 3
      },
      "file_extension": ".py",
      "mimetype": "text/x-python",
      "name": "python",
      "nbconvert_exporter": "python",
      "pygments_lexer": "ipython3",
      "version": "3.6.0"
    },
    "colab": {
      "provenance": [],
      "include_colab_link": true
    }
  },
  "nbformat": 4,
  "nbformat_minor": 0
}