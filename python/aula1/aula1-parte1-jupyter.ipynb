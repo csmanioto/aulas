{
  "cells": [
    {
      "cell_type": "markdown",
      "metadata": {
        "id": "09nmo-OPoW5W"
      },
      "source": [
        "# 10 minutos de Introdução com Jupyter/Colab"
      ]
    },
    {
      "cell_type": "markdown",
      "metadata": {
        "id": "d2Bk3Mh2oW5Y"
      },
      "source": [
        "A area abaixo marcada com um prompt de entrada ```In []``` é a área de entrada em que iremos digitar o nosso código Python.\n",
        "\n",
        "Para executar pressione as teclas ```Shift+Enter``` ou clique no ícone de rodar (<button class='fa fa-play icon-play btn btn-xs btn-default'></button>).\n",
        "\n"
      ]
    },
    {
      "cell_type": "code",
      "execution_count": 1,
      "metadata": {
        "scrolled": true,
        "colab": {
          "base_uri": "https://localhost:8080/"
        },
        "id": "AJnnmoyaoW5a",
        "outputId": "276f52e6-d9f6-4c3c-b9e9-69255bbe48f6"
      },
      "outputs": [
        {
          "output_type": "stream",
          "name": "stdout",
          "text": [
            "Reliability Engineering\n"
          ]
        }
      ],
      "source": [
        "print(\"Reliability Engineering\")"
      ]
    },
    {
      "cell_type": "code",
      "execution_count": 7,
      "metadata": {
        "colab": {
          "base_uri": "https://localhost:8080/"
        },
        "id": "obc6gWT6oW5b",
        "outputId": "76055f58-b5bc-426f-8049-3a38398a40ea"
      },
      "outputs": [
        {
          "output_type": "execute_result",
          "data": {
            "text/plain": [
              "20"
            ]
          },
          "metadata": {},
          "execution_count": 7
        }
      ],
      "source": [
        "10+10"
      ]
    },
    {
      "cell_type": "markdown",
      "source": [],
      "metadata": {
        "id": "hznb8wB7pm5P"
      }
    },
    {
      "cell_type": "code",
      "execution_count": 8,
      "metadata": {
        "colab": {
          "base_uri": "https://localhost:8080/"
        },
        "id": "y_TzygUzoW5b",
        "outputId": "a2f41bf3-b750-4427-aedd-2a94a657b1e8"
      },
      "outputs": [
        {
          "output_type": "stream",
          "name": "stdout",
          "text": [
            "10\n"
          ]
        }
      ],
      "source": [
        "print(10)"
      ]
    },
    {
      "cell_type": "markdown",
      "metadata": {
        "id": "TxkCW2C6oW5b"
      },
      "source": [
        "Para adicionar novas celulas utilize o botão com o mais (<button class='fa fa-plus icon-plus btn btn-xs btn-default'></button>), ou apertando ```Alt+Enter```."
      ]
    },
    {
      "cell_type": "markdown",
      "metadata": {
        "id": "yq-pFrFgoW5b"
      },
      "source": [
        "## Células Markdown podem conter texto formatado e código.\n",
        "\n",
        "É possível deixar em *itálico*, **negrito**.\n",
        "\n",
        "Também é possível construir tópicos:\n",
        "\n",
        "* Tópico 1\n",
        "* Tópico 2\n",
        "\n",
        "e adicionar código para apenas ilustrar e não executar. Um exemplo de código Python:\n",
        "\n",
        "    def teste(x):\n",
        "        return x**2\n",
        "\n",
        "ou também colocar código de outras linguagens:\n",
        "\n",
        "    if (i=0; i<n; i++) {\n",
        "      printf(\"hello %d\\n\", i);\n",
        "      x += 4;\n",
        "    }"
      ]
    },
    {
      "cell_type": "markdown",
      "metadata": {
        "id": "3zegfbfaoW5c"
      },
      "source": [
        "Também é possível criar expressões matemáticas em linha: \n",
        "$e^{i\\pi} + 1 = 0$  e centralizada:\n",
        "\n",
        "$$e^x=\\sum_{i=0}^\\infty \\frac{1}{i!}x^i$$"
      ]
    },
    {
      "cell_type": "markdown",
      "metadata": {
        "id": "4hsDYb14oW5c"
      },
      "source": [
        "## Para visualizar imagens vamos utilizar o Python"
      ]
    },
    {
      "cell_type": "code",
      "execution_count": null,
      "metadata": {
        "id": "eARdpdBvoW5c",
        "outputId": "a1eaf12e-b495-4f7d-ce80-9398f77ac374"
      },
      "outputs": [
        {
          "data": {
            "text/html": [
              "<img src=\"http://python.org/images/python-logo.gif\"/>"
            ],
            "text/plain": [
              "<IPython.core.display.Image object>"
            ]
          },
          "execution_count": 4,
          "metadata": {},
          "output_type": "execute_result"
        }
      ],
      "source": [
        "from IPython.display import Image\n",
        "Image(url='http://python.org/images/python-logo.gif')"
      ]
    },
    {
      "cell_type": "markdown",
      "metadata": {
        "id": "EjQNxx7loW5c"
      },
      "source": [
        "## Para visualizar código HTML"
      ]
    },
    {
      "cell_type": "markdown",
      "metadata": {
        "id": "CCOUWcx-oW5c"
      },
      "source": [
        "Esse código:\n",
        "\n",
        "```<button class='fa fa-play icon-play btn btn-xs btn-default'></button>```\n",
        "\n",
        "sem as aspas, imprime esse botão <button class='fa fa-play icon-play btn btn-xs btn-default'></button>.\n",
        "\n",
        "\n",
        "Esse código:\n",
        "\n",
        "```<span style=\"color:red;\">Texto Colorido</span>```\n",
        "\n",
        "sem as aspas, imprime o texto na cor vermelha: <span style=\"color:red;\">Texto Colorido</span>."
      ]
    },
    {
      "cell_type": "markdown",
      "metadata": {
        "id": "LSGWUddBoW5d"
      },
      "source": [
        "## Referências\n",
        "\n",
        "* [A brief tour of the IPython notebook](http://nbviewer.jupyter.org/github/nborwankar/LearnDataScience/blob/master/notebooks/Z0.%20A%20quick%20tour%20of%20the%20IPython%20notebook.ipynb)\n",
        "* [Markdown Cells](http://jupyter-notebook.readthedocs.io/en/latest/examples/Notebook/Working%20With%20Markdown%20Cells.html)\n",
        "* [Markdown](http://daringfireball.net/projects/markdown/)\n",
        "* [Building Interactive Dashboards with Jupyter](https://blog.dominodatalab.com/interactive-dashboards-in-jupyter/)"
      ]
    }
  ],
  "metadata": {
    "kernelspec": {
      "display_name": "Python 3",
      "language": "python",
      "name": "python3"
    },
    "language_info": {
      "codemirror_mode": {
        "name": "ipython",
        "version": 3
      },
      "file_extension": ".py",
      "mimetype": "text/x-python",
      "name": "python",
      "nbconvert_exporter": "python",
      "pygments_lexer": "ipython3",
      "version": "3.6.0"
    },
    "colab": {
      "provenance": []
    }
  },
  "nbformat": 4,
  "nbformat_minor": 0
}