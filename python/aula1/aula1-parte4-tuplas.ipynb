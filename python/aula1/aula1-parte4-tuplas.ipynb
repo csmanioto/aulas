{
  "cells": [
    {
      "cell_type": "markdown",
      "metadata": {
        "id": "view-in-github",
        "colab_type": "text"
      },
      "source": [
        "<a href=\"https://colab.research.google.com/github/csmanioto/aulas/blob/main/python/aula1/aula1-parte4-tuplas.ipynb\" target=\"_parent\"><img src=\"https://colab.research.google.com/assets/colab-badge.svg\" alt=\"Open In Colab\"/></a>"
      ]
    },
    {
      "cell_type": "markdown",
      "metadata": {
        "id": "e3ZJzouysmxB"
      },
      "source": [
        "# Tuplas\n",
        "\n",
        "* Tuplas constroem grupos simples de objetos.\n",
        "* Elas trabalham exatamente como listas, exceto que tuplas não podem ser modificadas (são imutáveis) e são normalmente escritas como uma série de itens em parênteses, não entre colchetes.\n",
        "* Tuplas são coleções ordenadas de objetos arbitrários.\n",
        "* Os itens das tuplas são acessados via índice.\n",
        "* Não suporta operações de alteração.\n",
        "* Tuplas são mais rápido do que listas.\n",
        "* Tuplas podem ser utilizadas como chaves em um dicionário.\n",
        "    * Apenas tuplas de strings e números.\n",
        "\n",
        "* Podemos utiliza-las como pares ordenados (x, y), registros de funcionário extraídos de uma base de dados, etc.\n",
        "\n",
        "\n"
      ]
    },
    {
      "cell_type": "code",
      "execution_count": 1,
      "metadata": {
        "colab": {
          "base_uri": "https://localhost:8080/"
        },
        "id": "QGeBpjGysmxD",
        "outputId": "eb993284-d91a-40b6-d2a5-c0b935956640"
      },
      "outputs": [
        {
          "output_type": "stream",
          "name": "stdout",
          "text": [
            "<class 'tuple'>\n"
          ]
        }
      ],
      "source": [
        "t1 = ()\n",
        "print(type(t1))"
      ]
    },
    {
      "cell_type": "code",
      "execution_count": 2,
      "metadata": {
        "colab": {
          "base_uri": "https://localhost:8080/"
        },
        "id": "LJz6MYINsmxE",
        "outputId": "7e919f46-1276-4b12-bfff-8485ecfffc11"
      },
      "outputs": [
        {
          "output_type": "stream",
          "name": "stdout",
          "text": [
            "('a', 'b', 'c', 'd')\n"
          ]
        }
      ],
      "source": [
        "letras = tuple('abcd')\n",
        "print(letras)"
      ]
    },
    {
      "cell_type": "code",
      "execution_count": 3,
      "metadata": {
        "colab": {
          "base_uri": "https://localhost:8080/"
        },
        "id": "A7_EmZCgsmxE",
        "outputId": "e235a8a3-2624-40fc-cb45-51f2eb217dd2"
      },
      "outputs": [
        {
          "output_type": "stream",
          "name": "stdout",
          "text": [
            "<class 'tuple'>\n"
          ]
        }
      ],
      "source": [
        "t2 = (1,)\n",
        "print(type(t2))"
      ]
    },
    {
      "cell_type": "markdown",
      "metadata": {
        "id": "ocHMbwCrsmxE"
      },
      "source": [
        "Se não colocar a virgula depois do 1, ```t2``` será to tipo ```int```. Veja abaixo."
      ]
    },
    {
      "cell_type": "code",
      "execution_count": 4,
      "metadata": {
        "colab": {
          "base_uri": "https://localhost:8080/"
        },
        "id": "C7mggGVpsmxF",
        "outputId": "fd545ecf-3e90-4c9d-8a14-02bf660a6d7f"
      },
      "outputs": [
        {
          "output_type": "stream",
          "name": "stdout",
          "text": [
            "<class 'int'>\n"
          ]
        }
      ],
      "source": [
        "t3 = (1)\n",
        "print(type(t3))"
      ]
    },
    {
      "cell_type": "markdown",
      "metadata": {
        "id": "skfrFv-7smxF"
      },
      "source": [
        "* Tuplas podem ser de diversos tipos, assim como as listas"
      ]
    },
    {
      "cell_type": "code",
      "execution_count": 5,
      "metadata": {
        "colab": {
          "base_uri": "https://localhost:8080/"
        },
        "id": "8x8Gwg0BsmxF",
        "outputId": "f2fdc26a-6617-40ba-b313-cbe3a4a05979"
      },
      "outputs": [
        {
          "output_type": "stream",
          "name": "stdout",
          "text": [
            "(1, 'a', 3.4)\n"
          ]
        }
      ],
      "source": [
        "t4 = (1, 'a', 3.4)\n",
        "print (t4)"
      ]
    },
    {
      "cell_type": "code",
      "execution_count": 6,
      "metadata": {
        "colab": {
          "base_uri": "https://localhost:8080/"
        },
        "id": "yS8l5-McsmxF",
        "outputId": "1d090348-c9bb-42b1-825e-35ec6414fd24"
      },
      "outputs": [
        {
          "output_type": "stream",
          "name": "stdout",
          "text": [
            "<class 'tuple'>\n"
          ]
        }
      ],
      "source": [
        "print(type(t4))"
      ]
    },
    {
      "cell_type": "markdown",
      "metadata": {
        "id": "9ZkQD1lfsmxF"
      },
      "source": [
        "* Podemos concatenar"
      ]
    },
    {
      "cell_type": "code",
      "execution_count": 7,
      "metadata": {
        "collapsed": true,
        "id": "u_lg0KZzsmxF"
      },
      "outputs": [],
      "source": [
        "ts = (1, 2) + (3, 4)"
      ]
    },
    {
      "cell_type": "code",
      "execution_count": 8,
      "metadata": {
        "colab": {
          "base_uri": "https://localhost:8080/"
        },
        "id": "9soCxSQAsmxG",
        "outputId": "babe6b4a-2ce1-4466-dc36-9c1c246c1f2e"
      },
      "outputs": [
        {
          "output_type": "stream",
          "name": "stdout",
          "text": [
            "(1, 2, 3, 4)\n"
          ]
        }
      ],
      "source": [
        "print(ts)"
      ]
    },
    {
      "cell_type": "markdown",
      "metadata": {
        "id": "SLrpHckNsmxG"
      },
      "source": [
        "* Podemos multiplicar"
      ]
    },
    {
      "cell_type": "code",
      "execution_count": 9,
      "metadata": {
        "colab": {
          "base_uri": "https://localhost:8080/"
        },
        "id": "ga3jnsNEsmxG",
        "outputId": "ec893cb4-e519-4188-8e55-5678f179d1b8"
      },
      "outputs": [
        {
          "output_type": "execute_result",
          "data": {
            "text/plain": [
              "(1, 2, 3, 4, 1, 2, 3, 4)"
            ]
          },
          "metadata": {},
          "execution_count": 9
        }
      ],
      "source": [
        "ts * 2"
      ]
    },
    {
      "cell_type": "markdown",
      "metadata": {
        "id": "2HgdquVtsmxG"
      },
      "source": [
        "* Podemos Indexar e fatiar"
      ]
    },
    {
      "cell_type": "code",
      "execution_count": 10,
      "metadata": {
        "colab": {
          "base_uri": "https://localhost:8080/"
        },
        "id": "MKXtPy5jsmxG",
        "outputId": "c106a63d-6669-4e1d-9e69-39e9e8fd504c"
      },
      "outputs": [
        {
          "output_type": "execute_result",
          "data": {
            "text/plain": [
              "1"
            ]
          },
          "metadata": {},
          "execution_count": 10
        }
      ],
      "source": [
        "ts[0]"
      ]
    },
    {
      "cell_type": "code",
      "execution_count": 11,
      "metadata": {
        "colab": {
          "base_uri": "https://localhost:8080/"
        },
        "id": "KyxERaYesmxG",
        "outputId": "3f0aa105-4624-40a6-994a-336a1b44f644"
      },
      "outputs": [
        {
          "output_type": "execute_result",
          "data": {
            "text/plain": [
              "(3, 4)"
            ]
          },
          "metadata": {},
          "execution_count": 11
        }
      ],
      "source": [
        "ts[2:4]"
      ]
    },
    {
      "cell_type": "code",
      "execution_count": 12,
      "metadata": {
        "collapsed": true,
        "id": "lktpowMEsmxH"
      },
      "outputs": [],
      "source": [
        "ft = ts[0], ts[2:4]"
      ]
    },
    {
      "cell_type": "code",
      "execution_count": 13,
      "metadata": {
        "colab": {
          "base_uri": "https://localhost:8080/"
        },
        "id": "ARaiXFhfsmxH",
        "outputId": "37a1cb1b-d804-4380-cf2f-472ee2a5d95d"
      },
      "outputs": [
        {
          "output_type": "stream",
          "name": "stdout",
          "text": [
            "(1, (3, 4))\n"
          ]
        }
      ],
      "source": [
        "print(ft)"
      ]
    },
    {
      "cell_type": "code",
      "execution_count": 14,
      "metadata": {
        "colab": {
          "base_uri": "https://localhost:8080/"
        },
        "id": "2dkMk1zBsmxH",
        "outputId": "f439bad8-d438-4f05-f5d4-76ccb1b64f88"
      },
      "outputs": [
        {
          "output_type": "stream",
          "name": "stdout",
          "text": [
            "<class 'tuple'>\n"
          ]
        }
      ],
      "source": [
        "print(type(ft))"
      ]
    },
    {
      "cell_type": "markdown",
      "metadata": {
        "id": "DoGZJJoHsmxH"
      },
      "source": [
        "* Podemos convert tuplas em listas e vice versa."
      ]
    },
    {
      "cell_type": "code",
      "execution_count": 15,
      "metadata": {
        "colab": {
          "base_uri": "https://localhost:8080/"
        },
        "id": "X3I17RqjsmxH",
        "outputId": "ca33430b-937d-4b71-b308-a9bb9da92baa"
      },
      "outputs": [
        {
          "output_type": "stream",
          "name": "stdout",
          "text": [
            "[1, 2, 3, 4]\n"
          ]
        }
      ],
      "source": [
        "nl = list(ts)\n",
        "print(nl)"
      ]
    },
    {
      "cell_type": "code",
      "execution_count": 16,
      "metadata": {
        "colab": {
          "base_uri": "https://localhost:8080/"
        },
        "id": "6FFtVJm1smxH",
        "outputId": "227ae7d5-c7cb-403f-be7e-c69a1831dab5"
      },
      "outputs": [
        {
          "output_type": "stream",
          "name": "stdout",
          "text": [
            "(1, 2, 3, 4)\n"
          ]
        }
      ],
      "source": [
        "tl = tuple(nl)\n",
        "print(tl)"
      ]
    }
  ],
  "metadata": {
    "kernelspec": {
      "display_name": "Python 3",
      "language": "python",
      "name": "python3"
    },
    "language_info": {
      "codemirror_mode": {
        "name": "ipython",
        "version": 3
      },
      "file_extension": ".py",
      "mimetype": "text/x-python",
      "name": "python",
      "nbconvert_exporter": "python",
      "pygments_lexer": "ipython3",
      "version": "3.5.2"
    },
    "colab": {
      "provenance": [],
      "include_colab_link": true
    }
  },
  "nbformat": 4,
  "nbformat_minor": 0
}