{
  "cells": [
    {
      "cell_type": "markdown",
      "metadata": {
        "id": "e3ZJzouysmxB"
      },
      "source": [
        "# Tuplas\n",
        "\n",
        "* Tuplas constroem grupos simples de objetos.\n",
        "* Elas trabalham exatamente como listas, exceto que tuplas não podem ser modificadas (são imutáveis) e são normalmente escritas como uma série de itens em parênteses, não entre colchetes.\n",
        "* Tuplas são coleções ordenadas de objetos arbitrários.\n",
        "* Os itens das tuplas são acessados via índice.\n",
        "* Não suporta operações de alteração.\n",
        "* Tuplas são mais rápido do que listas.\n",
        "* Tuplas podem ser utilizadas como chaves em um dicionário.\n",
        "    * Apenas tuplas de strings e números.\n",
        "\n",
        "* Podemos utiliza-las como pares ordenados (x, y), registros de funcionário extraídos de uma base de dados, etc.\n",
        "\n",
        "\n"
      ]
    },
    {
      "cell_type": "code",
      "execution_count": null,
      "metadata": {
        "id": "QGeBpjGysmxD",
        "outputId": "f40dab61-c690-499f-9087-e2a2e9885253"
      },
      "outputs": [
        {
          "name": "stdout",
          "output_type": "stream",
          "text": [
            "<class 'tuple'>\n"
          ]
        }
      ],
      "source": [
        "t1 = ()\n",
        "print(type(t1))"
      ]
    },
    {
      "cell_type": "code",
      "execution_count": null,
      "metadata": {
        "id": "LJz6MYINsmxE",
        "outputId": "e16866aa-47eb-4824-88e6-00fce7d2533e"
      },
      "outputs": [
        {
          "name": "stdout",
          "output_type": "stream",
          "text": [
            "('a', 'b', 'c', 'd')\n"
          ]
        }
      ],
      "source": [
        "letras = tuple('abcd')\n",
        "print(letras)"
      ]
    },
    {
      "cell_type": "code",
      "execution_count": null,
      "metadata": {
        "id": "A7_EmZCgsmxE",
        "outputId": "e58c15e4-2f2d-4872-c6d2-aa0f7755767c"
      },
      "outputs": [
        {
          "name": "stdout",
          "output_type": "stream",
          "text": [
            "<class 'tuple'>\n"
          ]
        }
      ],
      "source": [
        "t2 = (1,)\n",
        "print(type(t2))"
      ]
    },
    {
      "cell_type": "markdown",
      "metadata": {
        "id": "ocHMbwCrsmxE"
      },
      "source": [
        "Se não colocar a virgula depois do 1, ```t2``` será to tipo ```int```. Veja abaixo."
      ]
    },
    {
      "cell_type": "code",
      "execution_count": null,
      "metadata": {
        "id": "C7mggGVpsmxF",
        "outputId": "efc8e816-4728-4728-97bb-2e42719318a2"
      },
      "outputs": [
        {
          "name": "stdout",
          "output_type": "stream",
          "text": [
            "<class 'int'>\n"
          ]
        }
      ],
      "source": [
        "t3 = (1)\n",
        "print(type(t3))"
      ]
    },
    {
      "cell_type": "markdown",
      "metadata": {
        "id": "skfrFv-7smxF"
      },
      "source": [
        "* Tuplas podem ser de diversos tipos, assim como as listas"
      ]
    },
    {
      "cell_type": "code",
      "execution_count": null,
      "metadata": {
        "id": "8x8Gwg0BsmxF",
        "outputId": "59e5e49f-f41a-40f9-ae69-8d5f4a4d736b"
      },
      "outputs": [
        {
          "name": "stdout",
          "output_type": "stream",
          "text": [
            "(1, 'a', 3.4)\n"
          ]
        }
      ],
      "source": [
        "t4 = (1, 'a', 3.4)\n",
        "print (t4)"
      ]
    },
    {
      "cell_type": "code",
      "execution_count": null,
      "metadata": {
        "id": "yS8l5-McsmxF",
        "outputId": "feed4eab-c5c3-4af9-9696-084627e30da2"
      },
      "outputs": [
        {
          "name": "stdout",
          "output_type": "stream",
          "text": [
            "<class 'tuple'>\n"
          ]
        }
      ],
      "source": [
        "print(type(t4))"
      ]
    },
    {
      "cell_type": "markdown",
      "metadata": {
        "id": "9ZkQD1lfsmxF"
      },
      "source": [
        "* Podemos concatenar"
      ]
    },
    {
      "cell_type": "code",
      "execution_count": null,
      "metadata": {
        "collapsed": true,
        "id": "u_lg0KZzsmxF"
      },
      "outputs": [],
      "source": [
        "ts = (1, 2) + (3, 4)"
      ]
    },
    {
      "cell_type": "code",
      "execution_count": null,
      "metadata": {
        "id": "9soCxSQAsmxG",
        "outputId": "de0f9388-68e1-4bd4-8a37-55c45fa6da22"
      },
      "outputs": [
        {
          "name": "stdout",
          "output_type": "stream",
          "text": [
            "(1, 2, 3, 4)\n"
          ]
        }
      ],
      "source": [
        "print(ts)"
      ]
    },
    {
      "cell_type": "markdown",
      "metadata": {
        "id": "SLrpHckNsmxG"
      },
      "source": [
        "* Podemos multiplicar"
      ]
    },
    {
      "cell_type": "code",
      "execution_count": null,
      "metadata": {
        "id": "ga3jnsNEsmxG",
        "outputId": "04049ad3-269c-4620-8255-80fd1aa1ae7e"
      },
      "outputs": [
        {
          "data": {
            "text/plain": [
              "(1, 2, 3, 4, 1, 2, 3, 4)"
            ]
          },
          "execution_count": 9,
          "metadata": {},
          "output_type": "execute_result"
        }
      ],
      "source": [
        "ts * 2"
      ]
    },
    {
      "cell_type": "markdown",
      "metadata": {
        "id": "2HgdquVtsmxG"
      },
      "source": [
        "* Podemos Indexar e fatiar"
      ]
    },
    {
      "cell_type": "code",
      "execution_count": null,
      "metadata": {
        "id": "MKXtPy5jsmxG",
        "outputId": "a5c40f7e-1ba5-4d30-dde0-a6eb29712469"
      },
      "outputs": [
        {
          "data": {
            "text/plain": [
              "1"
            ]
          },
          "execution_count": 10,
          "metadata": {},
          "output_type": "execute_result"
        }
      ],
      "source": [
        "ts[0]"
      ]
    },
    {
      "cell_type": "code",
      "execution_count": null,
      "metadata": {
        "id": "KyxERaYesmxG",
        "outputId": "320d0bca-4ac2-4754-8758-7977d7c1b92b"
      },
      "outputs": [
        {
          "data": {
            "text/plain": [
              "(3, 4)"
            ]
          },
          "execution_count": 11,
          "metadata": {},
          "output_type": "execute_result"
        }
      ],
      "source": [
        "ts[2:4]"
      ]
    },
    {
      "cell_type": "code",
      "execution_count": null,
      "metadata": {
        "collapsed": true,
        "id": "lktpowMEsmxH"
      },
      "outputs": [],
      "source": [
        "ft = ts[0], ts[2:4]"
      ]
    },
    {
      "cell_type": "code",
      "execution_count": null,
      "metadata": {
        "id": "ARaiXFhfsmxH",
        "outputId": "4f2563c9-f15b-403c-d6e2-5b206d62a051"
      },
      "outputs": [
        {
          "name": "stdout",
          "output_type": "stream",
          "text": [
            "(1, (3, 4))\n"
          ]
        }
      ],
      "source": [
        "print(ft)"
      ]
    },
    {
      "cell_type": "code",
      "execution_count": null,
      "metadata": {
        "id": "2dkMk1zBsmxH",
        "outputId": "c769556f-21b4-45fe-b192-d7ab0bc36f45"
      },
      "outputs": [
        {
          "name": "stdout",
          "output_type": "stream",
          "text": [
            "<class 'tuple'>\n"
          ]
        }
      ],
      "source": [
        "print(type(ft))"
      ]
    },
    {
      "cell_type": "markdown",
      "metadata": {
        "id": "DoGZJJoHsmxH"
      },
      "source": [
        "* Podemos convert tuplas em listas e vice versa."
      ]
    },
    {
      "cell_type": "code",
      "execution_count": null,
      "metadata": {
        "id": "X3I17RqjsmxH",
        "outputId": "b22d59dc-b29a-4361-de61-c44844a89582"
      },
      "outputs": [
        {
          "name": "stdout",
          "output_type": "stream",
          "text": [
            "[1, 2, 3, 4]\n"
          ]
        }
      ],
      "source": [
        "nl = list(ts)\n",
        "print(nl)"
      ]
    },
    {
      "cell_type": "code",
      "execution_count": null,
      "metadata": {
        "id": "6FFtVJm1smxH",
        "outputId": "1ac79c09-380e-4019-c8c2-bf1f26c73f99"
      },
      "outputs": [
        {
          "name": "stdout",
          "output_type": "stream",
          "text": [
            "(1, 2, 3, 4)\n"
          ]
        }
      ],
      "source": [
        "tl = tuple(nl)\n",
        "print(tl)"
      ]
    }
  ],
  "metadata": {
    "kernelspec": {
      "display_name": "Python 3",
      "language": "python",
      "name": "python3"
    },
    "language_info": {
      "codemirror_mode": {
        "name": "ipython",
        "version": 3
      },
      "file_extension": ".py",
      "mimetype": "text/x-python",
      "name": "python",
      "nbconvert_exporter": "python",
      "pygments_lexer": "ipython3",
      "version": "3.5.2"
    },
    "colab": {
      "provenance": []
    }
  },
  "nbformat": 4,
  "nbformat_minor": 0
}