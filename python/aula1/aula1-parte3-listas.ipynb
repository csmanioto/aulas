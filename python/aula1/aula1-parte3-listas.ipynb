{
  "cells": [
    {
      "cell_type": "markdown",
      "metadata": {
        "id": "view-in-github",
        "colab_type": "text"
      },
      "source": [
        "<a href=\"https://colab.research.google.com/github/csmanioto/aulas/blob/main/python/aula1/aula1-parte3-listas.ipynb\" target=\"_parent\"><img src=\"https://colab.research.google.com/assets/colab-badge.svg\" alt=\"Open In Colab\"/></a>"
      ]
    },
    {
      "cell_type": "markdown",
      "metadata": {
        "id": "JMxhb2pKr4ml"
      },
      "source": [
        "# Listas\n",
        "\n",
        "* Conjunto linear de valores indexados por um número inteiro:\n",
        "    * Índices são iniciados em zero\n",
        "    * Tipos mistos\n",
        "    * E até outras listas"
      ]
    },
    {
      "cell_type": "code",
      "execution_count": null,
      "metadata": {
        "id": "zMzizuPcr4mn",
        "outputId": "517c5516-c5b3-4ff7-dff0-133ff67befc9"
      },
      "outputs": [
        {
          "name": "stdout",
          "output_type": "stream",
          "text": [
            "[1, 2, 3, 4, 5, 6]\n"
          ]
        }
      ],
      "source": [
        "numeros = [1,2,3,4,5,6]\n",
        "print(numeros)"
      ]
    },
    {
      "cell_type": "code",
      "execution_count": null,
      "metadata": {
        "id": "df6hf3Oer4mo",
        "outputId": "361dbbc8-1758-4066-b16b-f27674930f34"
      },
      "outputs": [
        {
          "name": "stdout",
          "output_type": "stream",
          "text": [
            "['a', 'b', 'c', 'd']\n"
          ]
        }
      ],
      "source": [
        "letras = list(\"abcd\")\n",
        "print(letras)"
      ]
    },
    {
      "cell_type": "markdown",
      "metadata": {
        "id": "CXggZyx7r4mo"
      },
      "source": [
        "* Listas também suportam operações de concatenação"
      ]
    },
    {
      "cell_type": "code",
      "execution_count": null,
      "metadata": {
        "id": "Bhlx91U6r4mp",
        "outputId": "e064403b-833a-408d-d8d2-82e15c3ce336"
      },
      "outputs": [
        {
          "name": "stdout",
          "output_type": "stream",
          "text": [
            "[1, 2, 3, 4, 5, 6, 7, 8, 9, 10]\n"
          ]
        }
      ],
      "source": [
        "numeros = numeros + [7,8,9,10]\n",
        "print(numeros)"
      ]
    },
    {
      "cell_type": "markdown",
      "metadata": {
        "id": "p6DmSBacr4mp"
      },
      "source": [
        "* Por ser do tipo mutável, é possível modificar o seu conteúdo"
      ]
    },
    {
      "cell_type": "code",
      "execution_count": null,
      "metadata": {
        "collapsed": true,
        "id": "ZUDDMmBvr4mp"
      },
      "outputs": [],
      "source": [
        "cubos = [1, 8, 27, 65, 125]"
      ]
    },
    {
      "cell_type": "code",
      "execution_count": null,
      "metadata": {
        "id": "BaiZyXP3r4mp",
        "outputId": "f5cfa15a-bdff-4880-9446-a14d6fbf83a4"
      },
      "outputs": [
        {
          "name": "stdout",
          "output_type": "stream",
          "text": [
            "65\n"
          ]
        }
      ],
      "source": [
        "print(cubos[3])"
      ]
    },
    {
      "cell_type": "code",
      "execution_count": null,
      "metadata": {
        "id": "HLRKQVRRr4mp",
        "outputId": "8137ac8b-1b08-4f00-8708-f3825246279d"
      },
      "outputs": [
        {
          "name": "stdout",
          "output_type": "stream",
          "text": [
            "[1, 8, 27, 64, 125]\n"
          ]
        }
      ],
      "source": [
        "cubos[3] = 64\n",
        "print(cubos)"
      ]
    },
    {
      "cell_type": "markdown",
      "metadata": {
        "id": "4fJkzYA7r4mq"
      },
      "source": [
        "* Também é possível utilizar o método append() para adicionar valores"
      ]
    },
    {
      "cell_type": "code",
      "execution_count": null,
      "metadata": {
        "collapsed": true,
        "id": "Hv6suUugr4mq"
      },
      "outputs": [],
      "source": [
        "cubos.append(216) # cubo de 6"
      ]
    },
    {
      "cell_type": "code",
      "execution_count": null,
      "metadata": {
        "collapsed": true,
        "id": "v9gU3ch1r4mq"
      },
      "outputs": [],
      "source": [
        "cubos.append(7 ** 3) # cubo de 7"
      ]
    },
    {
      "cell_type": "code",
      "execution_count": null,
      "metadata": {
        "id": "8bC-TOvLr4mq",
        "outputId": "960bbe1d-d309-4c18-a0bb-ff8795c51b8e"
      },
      "outputs": [
        {
          "name": "stdout",
          "output_type": "stream",
          "text": [
            "[1, 8, 27, 64, 125, 216, 343]\n"
          ]
        }
      ],
      "source": [
        "print(cubos)"
      ]
    },
    {
      "cell_type": "markdown",
      "metadata": {
        "id": "k6BVyIhxr4mq"
      },
      "source": [
        "* Podemos contar quantos elementos tem na lista utilizando o método len()"
      ]
    },
    {
      "cell_type": "code",
      "execution_count": null,
      "metadata": {
        "id": "I2kH_8E5r4mq",
        "outputId": "58221bfa-7d94-44c6-fb4d-9a12dab2d18b"
      },
      "outputs": [
        {
          "name": "stdout",
          "output_type": "stream",
          "text": [
            "7\n"
          ]
        }
      ],
      "source": [
        "print(len(cubos))"
      ]
    },
    {
      "cell_type": "markdown",
      "metadata": {
        "id": "iGuw_dwdr4mr"
      },
      "source": [
        "## É possível criar lista com diversos tipos\n",
        "\n",
        "Podemos criar listas com números, strings e outras listas."
      ]
    },
    {
      "cell_type": "code",
      "execution_count": 1,
      "metadata": {
        "collapsed": true,
        "id": "hGv-SWmrr4mr"
      },
      "outputs": [],
      "source": [
        "num = [1, 2, 3]\n",
        "prod = ['Ipad','S20', 'Notebook', 'Tablet']"
      ]
    },
    {
      "cell_type": "code",
      "execution_count": null,
      "metadata": {
        "collapsed": true,
        "id": "g0JHcRTrr4mr"
      },
      "outputs": [],
      "source": [
        "lst = [num, prod]"
      ]
    },
    {
      "cell_type": "code",
      "execution_count": null,
      "metadata": {
        "id": "_JphK5Yhr4mr",
        "outputId": "52ce093f-173a-4804-9442-1d196bb1c1f6"
      },
      "outputs": [
        {
          "name": "stdout",
          "output_type": "stream",
          "text": [
            "[[1, 2, 3], ['Ipad', 'S7', 'Notebook', 'Tablet']]\n"
          ]
        }
      ],
      "source": [
        "print(lst)"
      ]
    },
    {
      "cell_type": "code",
      "execution_count": null,
      "metadata": {
        "id": "uOlOluXIr4mr",
        "outputId": "a324d320-6503-4680-fbe9-a7971a7c16eb"
      },
      "outputs": [
        {
          "name": "stdout",
          "output_type": "stream",
          "text": [
            "[1, 2, 3]\n"
          ]
        }
      ],
      "source": [
        "print(lst[0])"
      ]
    },
    {
      "cell_type": "code",
      "execution_count": null,
      "metadata": {
        "id": "AXBlmMF0r4ms",
        "outputId": "05aa9e68-fc33-4c53-d709-84ebaf54ee8b"
      },
      "outputs": [
        {
          "name": "stdout",
          "output_type": "stream",
          "text": [
            "['Ipad', 'S7', 'Notebook', 'Tablet']\n"
          ]
        }
      ],
      "source": [
        "print(lst[1])"
      ]
    },
    {
      "cell_type": "code",
      "execution_count": null,
      "metadata": {
        "id": "Cabq2cuqr4ms",
        "outputId": "6fd08b79-5db9-4a16-907d-d45f72bb3c21"
      },
      "outputs": [
        {
          "name": "stdout",
          "output_type": "stream",
          "text": [
            "Ipad\n"
          ]
        }
      ],
      "source": [
        "print(lst[1][0])"
      ]
    },
    {
      "cell_type": "markdown",
      "metadata": {
        "id": "ZjKx5zixr4ms"
      },
      "source": [
        "## Métodos do tipo lista\n",
        "\n",
        "Como no Python, tudo é um objeto, uma lista possui um conjunto de operações próprias que permitem manipular os valores da lista. Isso é chamado de método.\n"
      ]
    },
    {
      "cell_type": "code",
      "execution_count": null,
      "metadata": {
        "collapsed": true,
        "id": "vZywoDVtr4ms"
      },
      "outputs": [],
      "source": [
        "n = ['c','a', 'b']\n",
        "n.sort()"
      ]
    },
    {
      "cell_type": "code",
      "execution_count": null,
      "metadata": {
        "id": "FJr0uW3Tr4ms",
        "outputId": "9038827d-8274-450b-9736-2171e4607603"
      },
      "outputs": [
        {
          "name": "stdout",
          "output_type": "stream",
          "text": [
            "['a', 'b', 'c']\n"
          ]
        }
      ],
      "source": [
        "print(n)"
      ]
    },
    {
      "cell_type": "code",
      "execution_count": null,
      "metadata": {
        "id": "TJtizkoVr4mt",
        "outputId": "db233fef-630d-4d34-88ac-d8201dcb153c"
      },
      "outputs": [
        {
          "name": "stdout",
          "output_type": "stream",
          "text": [
            "['__add__', '__class__', '__contains__', '__delattr__', '__delitem__', '__dir__', '__doc__', '__eq__', '__format__', '__ge__', '__getattribute__', '__getitem__', '__gt__', '__hash__', '__iadd__', '__imul__', '__init__', '__iter__', '__le__', '__len__', '__lt__', '__mul__', '__ne__', '__new__', '__reduce__', '__reduce_ex__', '__repr__', '__reversed__', '__rmul__', '__setattr__', '__setitem__', '__sizeof__', '__str__', '__subclasshook__', 'append', 'clear', 'copy', 'count', 'extend', 'index', 'insert', 'pop', 'remove', 'reverse', 'sort']\n"
          ]
        }
      ],
      "source": [
        "print(dir(n))"
      ]
    },
    {
      "cell_type": "markdown",
      "metadata": {
        "id": "rc8pVHb9r4mt"
      },
      "source": [
        "## Alguns métodos\n",
        "\n",
        "Alguns métodos listados abaixo. Acesse a lista completa em https://docs.python.org/3/tutorial/datastructures.html#more-on-lists\n",
        "\n",
        "\n",
        "Método | Descrição\n",
        "---- | ----\n",
        "```list.append(x)``` | Adiciona um item ao fim da lista; equivalente a a[len(a):] = [x]\n",
        "```list.extend(L)``` | Prolonga a lista, adicionando no fim todos os elementos da lista L passada como argumento; equivalente a a[len(a):] = L\n",
        "```list.insert(i, x)``` | Insere um item em uma posição especificada\n",
        "```list.remove(x)``` | Remove o primeiro item encontrado na lista cujo valor é igual a x\n",
        "```list.pop([i])``` | Remove o item na posição dada e o devolve.\n",
        "```list.index(x)``` | Devolve o índice do primeiro item cujo valor é igual a x, gerando ValueError se este valor não existe\n",
        "```list.count(x)``` | Devolve o número de vezes que o valor x aparece na lista\n",
        "```list.sort()``` | Ordena os itens na própria lista\n",
        "```list.reverse()``` | Inverte a ordem dos elementos na lista\n"
      ]
    },
    {
      "cell_type": "code",
      "execution_count": null,
      "metadata": {
        "id": "uJmxyq93r4mt",
        "outputId": "639d052f-f7cf-4922-e70c-236a5af38393"
      },
      "outputs": [
        {
          "name": "stdout",
          "output_type": "stream",
          "text": [
            "['a', 'b', 'c']\n"
          ]
        }
      ],
      "source": [
        "print(n)"
      ]
    },
    {
      "cell_type": "code",
      "execution_count": null,
      "metadata": {
        "id": "LncbrOh6r4mt",
        "outputId": "196f417a-34c3-4ff1-da5e-17a74a025a36"
      },
      "outputs": [
        {
          "name": "stdout",
          "output_type": "stream",
          "text": [
            "['a', 'b', 'c', 'd']\n"
          ]
        }
      ],
      "source": [
        "n.append('d')\n",
        "print(n)"
      ]
    },
    {
      "cell_type": "code",
      "execution_count": null,
      "metadata": {
        "collapsed": true,
        "id": "oIYgWWs-r4mu"
      },
      "outputs": [],
      "source": [
        "lista2 = ['e', 'f', 'a']\n",
        "n.extend(lista2)"
      ]
    },
    {
      "cell_type": "code",
      "execution_count": null,
      "metadata": {
        "id": "vjnzmDVNr4mu",
        "outputId": "34507682-3826-4d0f-d7b1-d6f5252744bd"
      },
      "outputs": [
        {
          "name": "stdout",
          "output_type": "stream",
          "text": [
            "['a', 'b', 'c', 'd', 'e', 'f', 'a']\n"
          ]
        }
      ],
      "source": [
        "print(n)"
      ]
    },
    {
      "cell_type": "code",
      "execution_count": null,
      "metadata": {
        "collapsed": true,
        "id": "fPOQVkZSr4mu"
      },
      "outputs": [],
      "source": [
        "n.remove('f')"
      ]
    },
    {
      "cell_type": "code",
      "execution_count": null,
      "metadata": {
        "id": "cxAA3Q3ir4mu",
        "outputId": "b90a294d-cb74-49f4-d8ec-bd858be628eb"
      },
      "outputs": [
        {
          "name": "stdout",
          "output_type": "stream",
          "text": [
            "['a', 'b', 'c', 'd', 'e', 'a']\n"
          ]
        }
      ],
      "source": [
        "print(n)"
      ]
    },
    {
      "cell_type": "code",
      "execution_count": null,
      "metadata": {
        "id": "wPFOIC0fr4mv"
      },
      "outputs": [],
      "source": [
        "item = n.pop(4)"
      ]
    },
    {
      "cell_type": "code",
      "execution_count": null,
      "metadata": {
        "id": "Ou56K5TYr4mv",
        "outputId": "64c0fd5e-3331-4e12-d380-9cb6cf9cbd12"
      },
      "outputs": [
        {
          "name": "stdout",
          "output_type": "stream",
          "text": [
            "e\n",
            "['a', 'b', 'c', 'd', 'a']\n"
          ]
        }
      ],
      "source": [
        "print(item)\n",
        "print(n)"
      ]
    },
    {
      "cell_type": "code",
      "execution_count": null,
      "metadata": {
        "id": "BtiShXpgr4mw",
        "outputId": "337420cd-8eb9-44b2-a3c9-97c0f208b52f"
      },
      "outputs": [
        {
          "data": {
            "text/plain": [
              "3"
            ]
          },
          "execution_count": 28,
          "metadata": {},
          "output_type": "execute_result"
        }
      ],
      "source": [
        "n.index('d')"
      ]
    },
    {
      "cell_type": "code",
      "execution_count": null,
      "metadata": {
        "id": "-QWg3G2Br4mw",
        "outputId": "b11b8433-704b-45e3-d3c8-5ec671c4494d"
      },
      "outputs": [
        {
          "data": {
            "text/plain": [
              "2"
            ]
          },
          "execution_count": 29,
          "metadata": {},
          "output_type": "execute_result"
        }
      ],
      "source": [
        "n.count('a')"
      ]
    },
    {
      "cell_type": "markdown",
      "metadata": {
        "id": "hawITCmyr4mw"
      },
      "source": [
        "## Exercícios"
      ]
    },
    {
      "cell_type": "markdown",
      "metadata": {
        "id": "xZCcVuFSr4mw"
      },
      "source": [
        "1 - Crie uma lista com números de 1 a 5. Crie uma segunda lista com 5 cores diferentes. Junte as duas listas em uma terceira lista e imprima cada uma das três listas utilizando a última lista.\n"
      ]
    },
    {
      "cell_type": "code",
      "execution_count": null,
      "metadata": {
        "collapsed": true,
        "id": "Xf8B5pNxr4mw"
      },
      "outputs": [],
      "source": [
        "lst1 = [1,2,3,4,5]"
      ]
    },
    {
      "cell_type": "code",
      "execution_count": null,
      "metadata": {
        "id": "m6JpmHjbr4mx",
        "outputId": "3deaa3d7-834e-4fdd-b6c5-e3fdadce5232"
      },
      "outputs": [
        {
          "name": "stdout",
          "output_type": "stream",
          "text": [
            "[1, 2, 3, 4, 5]\n"
          ]
        }
      ],
      "source": [
        "print (lst1)"
      ]
    },
    {
      "cell_type": "code",
      "execution_count": null,
      "metadata": {
        "collapsed": true,
        "id": "Qb9j1BLVr4mx"
      },
      "outputs": [],
      "source": [
        "lst2 = ['black','white','blue','green','red']"
      ]
    },
    {
      "cell_type": "code",
      "execution_count": null,
      "metadata": {
        "id": "TtFQZrK2r4mx",
        "outputId": "e70f2309-566e-45db-888e-7f34728562cf"
      },
      "outputs": [
        {
          "name": "stdout",
          "output_type": "stream",
          "text": [
            "['black', 'white', 'blue', 'green', 'red']\n"
          ]
        }
      ],
      "source": [
        "print (lst2)"
      ]
    },
    {
      "cell_type": "code",
      "execution_count": null,
      "metadata": {
        "collapsed": true,
        "id": "YzpvQ27cr4mx"
      },
      "outputs": [],
      "source": [
        "lst3 = (lst1 + lst2)"
      ]
    },
    {
      "cell_type": "code",
      "execution_count": null,
      "metadata": {
        "id": "pYuBQiPNr4my",
        "outputId": "a2502282-3a63-4e52-873d-59d39e64a6fd"
      },
      "outputs": [
        {
          "name": "stdout",
          "output_type": "stream",
          "text": [
            "[1, 2, 3, 4, 5, 'black', 'white', 'blue', 'green', 'red']\n"
          ]
        }
      ],
      "source": [
        "print (lst3)"
      ]
    },
    {
      "cell_type": "markdown",
      "metadata": {
        "id": "U_GVhocnr4my"
      },
      "source": [
        "2 - Crie uma lista e adicione o seu nome e sobrenome. Agora crie uma string e utilize os placeholders para imprimir seu nome completo. A mensagem deve estar no seguinte formato: \"Olá, Dino Magri!\""
      ]
    },
    {
      "cell_type": "code",
      "execution_count": 4,
      "metadata": {
        "collapsed": true,
        "id": "0yLyBWybr4my"
      },
      "outputs": [],
      "source": [
        "lstnome = ['Carlos','Smaniotto']"
      ]
    },
    {
      "cell_type": "code",
      "execution_count": 5,
      "metadata": {
        "id": "F2tmx-pOr4my",
        "outputId": "9e8e9108-c6b7-48f3-cd09-322e4bdf6113",
        "colab": {
          "base_uri": "https://localhost:8080/"
        }
      },
      "outputs": [
        {
          "output_type": "stream",
          "name": "stdout",
          "text": [
            "Meu nome é Carlos Smaniotto\n"
          ]
        }
      ],
      "source": [
        "nome = print(\"Meu nome é {} {}\".format(lstnome[0], lstnome[1]))"
      ]
    }
  ],
  "metadata": {
    "kernelspec": {
      "display_name": "Python 3",
      "language": "python",
      "name": "python3"
    },
    "language_info": {
      "codemirror_mode": {
        "name": "ipython",
        "version": 3
      },
      "file_extension": ".py",
      "mimetype": "text/x-python",
      "name": "python",
      "nbconvert_exporter": "python",
      "pygments_lexer": "ipython3",
      "version": "3.5.2"
    },
    "colab": {
      "provenance": [],
      "include_colab_link": true
    }
  },
  "nbformat": 4,
  "nbformat_minor": 0
}